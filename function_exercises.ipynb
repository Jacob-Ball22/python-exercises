{
 "cells": [
  {
   "cell_type": "markdown",
   "id": "e88743f5",
   "metadata": {},
   "source": [
    "**1. Define a function named is_two. It should accept one input and return True if the passed input is either the number or the string 2, False otherwise.**\n"
   ]
  },
  {
   "cell_type": "code",
   "execution_count": 3,
   "id": "a2e57f1f",
   "metadata": {},
   "outputs": [
    {
     "name": "stdout",
     "output_type": "stream",
     "text": [
      "False\n"
     ]
    }
   ],
   "source": [
    "#is_two defines x as only parameter\n",
    "def is_two(x):\n",
    "    #checks to see if x is equal to int 2 or str 2\n",
    "    if x == 2 or x == '2':\n",
    "        #If true returns true\n",
    "        return True\n",
    "    #Otherwise, any other answer returns false\n",
    "    else:\n",
    "        return False\n",
    "    \n",
    "print(is_two(3))"
   ]
  },
  {
   "cell_type": "markdown",
   "id": "a628ca2f",
   "metadata": {},
   "source": [
    "**2. Define a function named is_vowel. It should return True if the passed string is a vowel, False otherwise.**\n"
   ]
  },
  {
   "cell_type": "code",
   "execution_count": 13,
   "id": "5839058d",
   "metadata": {},
   "outputs": [
    {
     "name": "stdout",
     "output_type": "stream",
     "text": [
      "True\n"
     ]
    }
   ],
   "source": [
    "#variable 'vowels' sets up the list of vowels to be used for checking\n",
    "vowels = {'a', 'e', 'i', 'o', 'u'}\n",
    "#is_vowel defines string as the only parameter\n",
    "def is_vowel(string):\n",
    "    #if condition checks if string is found in vowels\n",
    "    if string in vowels:\n",
    "        #if found in vowels it returns True\n",
    "        return True\n",
    "    #if not found in vowels it returns False\n",
    "    else:\n",
    "        return False\n",
    "    \n",
    "print(is_vowel('a'))"
   ]
  },
  {
   "cell_type": "markdown",
   "id": "0025c4c4",
   "metadata": {},
   "source": [
    "**3. Define a function named is_consonant. It should return True if the passed string is a consonant, False otherwise. Use your is_vowel function to accomplish this.**\n"
   ]
  },
  {
   "cell_type": "code",
   "execution_count": 15,
   "id": "b36c0328",
   "metadata": {},
   "outputs": [
    {
     "name": "stdout",
     "output_type": "stream",
     "text": [
      "True\n"
     ]
    }
   ],
   "source": [
    "#variable 'vowels' sets up the list of vowels to be used for checking\n",
    "vowels = {'a', 'e', 'i', 'o', 'u'}\n",
    "#is_consonant defines string as the only parameter\n",
    "def is_consonant(string):\n",
    "    #checks if string is not included in vowels\n",
    "    if string not in vowels:\n",
    "        #if not then it returns True\n",
    "        return True\n",
    "    #otherwise, the function returns False\n",
    "    else:\n",
    "        return False\n",
    "    \n",
    "print(is_consonant('b'))"
   ]
  },
  {
   "cell_type": "markdown",
   "id": "db148735",
   "metadata": {},
   "source": [
    "**4. Define a function that accepts a string that is a word. The function should capitalize the first letter of the word if the word starts with a consonant.**\n"
   ]
  },
  {
   "cell_type": "code",
   "execution_count": 31,
   "id": "6af19198",
   "metadata": {},
   "outputs": [
    {
     "name": "stdout",
     "output_type": "stream",
     "text": [
      "Bob\n"
     ]
    }
   ],
   "source": [
    "#variable 'vowels' sets up the list of vowels to be used for checking\n",
    "vowels = {'a', 'e', 'i', 'o', 'u'}\n",
    "#capitalize defines string as the only parameter\n",
    "def capitalize(string):\n",
    "    #finds if first letter of string is not in vowels\n",
    "    if string[0] not in vowels:\n",
    "        #the cap variable takes the first letter and capitalizes it\n",
    "        #then it combines it with the rest of the string\n",
    "        cap = string[0].upper() + string[1:]\n",
    "        #returns cap variable back\n",
    "        return cap\n",
    "print(capitalize('bob'))"
   ]
  },
  {
   "cell_type": "markdown",
   "id": "d7d4ca07",
   "metadata": {},
   "source": [
    "**5. Define a function named calculate_tip. It should accept a tip percentage (a number between 0 and 1) and the bill total, and return the amount to tip.**\n"
   ]
  },
  {
   "cell_type": "code",
   "execution_count": 28,
   "id": "5c50e01d",
   "metadata": {},
   "outputs": [
    {
     "name": "stdout",
     "output_type": "stream",
     "text": [
      "125.0\n"
     ]
    }
   ],
   "source": [
    "#calculate_tip defines percentage and bill_total as the parameters\n",
    "def calculate_tip(percentage, bill_total):\n",
    "    #calculates the amount of the tip base on percentage\n",
    "    tip_amount = bill_total * percentage\n",
    "    #returns the bill and percent amount to give the total amount of the bill with tip\n",
    "    return (bill_total + tip_amount)\n",
    "\n",
    "print(calculate_tip(0.25, 100))"
   ]
  },
  {
   "cell_type": "markdown",
   "id": "31fbc608",
   "metadata": {},
   "source": [
    "**6. Define a function named apply_discount. It should accept a original price, and a discount percentage, and return the price after the discount is applied.**\n"
   ]
  },
  {
   "cell_type": "code",
   "execution_count": 30,
   "id": "3422c97c",
   "metadata": {},
   "outputs": [
    {
     "name": "stdout",
     "output_type": "stream",
     "text": [
      "75.0\n"
     ]
    }
   ],
   "source": [
    "#apply_discount defines original and discount_percent as the parameters\n",
    "def apply_discount(original, discount_percent):\n",
    "    #after_discount is the amount that is going to be taken off original\n",
    "    after_discount = original * discount_percent\n",
    "    #returns the original amount with the discount applied\n",
    "    return (original - after_discount)\n",
    "\n",
    "print(apply_discount(100, 0.25))"
   ]
  },
  {
   "cell_type": "markdown",
   "id": "af82e040",
   "metadata": {},
   "source": [
    "**7. Define a function named handle_commas. It should accept a string that is a number that contains commas in it as input, and return a number as output.**\n"
   ]
  },
  {
   "cell_type": "code",
   "execution_count": null,
   "id": "661cf5e8",
   "metadata": {},
   "outputs": [],
   "source": []
  },
  {
   "cell_type": "markdown",
   "id": "6a70f6e6",
   "metadata": {},
   "source": [
    "**8. Define a function named get_letter_grade. It should accept a number and return the letter grade associated with that number (A-F).**\n"
   ]
  },
  {
   "cell_type": "code",
   "execution_count": null,
   "id": "966e9ea2",
   "metadata": {},
   "outputs": [],
   "source": []
  },
  {
   "cell_type": "markdown",
   "id": "a2a012f7",
   "metadata": {},
   "source": [
    "**9. Define a function named remove_vowels that accepts a string and returns a string with all the vowels removed.**\n"
   ]
  },
  {
   "cell_type": "code",
   "execution_count": null,
   "id": "887aa7c4",
   "metadata": {},
   "outputs": [],
   "source": []
  },
  {
   "cell_type": "markdown",
   "id": "d3301e47",
   "metadata": {},
   "source": [
    "**10. Define a function named normalize_name. It should accept a string and return a valid python identifier, that is:**"
   ]
  },
  {
   "cell_type": "markdown",
   "id": "2b06608e",
   "metadata": {},
   "source": [
    "* anything that is not a valid python identifier should be removed\n",
    "* leading and trailing whitespace should be removed\n",
    "* everything should be lowercase\n",
    "* spaces should be replaced with underscores\n",
    "* for example:\n",
    "    * Name will become name\n",
    "    * First Name will become first_name\n",
    "    * % Completed will become completed\n"
   ]
  },
  {
   "cell_type": "code",
   "execution_count": null,
   "id": "bb4e1a58",
   "metadata": {},
   "outputs": [],
   "source": []
  },
  {
   "cell_type": "markdown",
   "id": "3711fe29",
   "metadata": {},
   "source": [
    "**11. Write a function named cumulative_sum that accepts a list of numbers and returns a list that is the cumulative sum of the numbers in the list.**"
   ]
  },
  {
   "cell_type": "markdown",
   "id": "d48061c2",
   "metadata": {},
   "source": [
    "* cumulative_sum([1, 1, 1]) returns [1, 2, 3]\n",
    "* cumulative_sum([1, 2, 3, 4]) returns [1, 3, 6, 10]"
   ]
  },
  {
   "cell_type": "code",
   "execution_count": null,
   "id": "b6a5fe98",
   "metadata": {},
   "outputs": [],
   "source": []
  }
 ],
 "metadata": {
  "kernelspec": {
   "display_name": "Python 3 (ipykernel)",
   "language": "python",
   "name": "python3"
  },
  "language_info": {
   "codemirror_mode": {
    "name": "ipython",
    "version": 3
   },
   "file_extension": ".py",
   "mimetype": "text/x-python",
   "name": "python",
   "nbconvert_exporter": "python",
   "pygments_lexer": "ipython3",
   "version": "3.11.5"
  }
 },
 "nbformat": 4,
 "nbformat_minor": 5
}
