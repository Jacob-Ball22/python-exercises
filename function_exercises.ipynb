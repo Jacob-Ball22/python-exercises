{
 "cells": [
  {
   "cell_type": "markdown",
   "id": "5edca1ae",
   "metadata": {},
   "source": [
    "**1. Define a function named is_two. It should accept one input and return True if the passed input is either the number or the string 2, False otherwise.**\n"
   ]
  },
  {
   "cell_type": "code",
   "execution_count": 3,
   "id": "76de5e3f",
   "metadata": {},
   "outputs": [
    {
     "name": "stdout",
     "output_type": "stream",
     "text": [
      "False\n"
     ]
    }
   ],
   "source": [
    "#is_two defines x as only parameter\n",
    "def is_two(x):\n",
    "    #checks to see if x is equal to int 2 or str 2\n",
    "    if x == 2 or x == '2':\n",
    "        #If true returns true\n",
    "        return True\n",
    "    #Otherwise, any other answer returns false\n",
    "    else:\n",
    "        return False\n",
    "    \n",
    "print(is_two(3))"
   ]
  },
  {
   "cell_type": "markdown",
   "id": "dd9c26f0",
   "metadata": {},
   "source": [
    "**2. Define a function named is_vowel. It should return True if the passed string is a vowel, False otherwise.**\n"
   ]
  },
  {
   "cell_type": "code",
   "execution_count": 13,
   "id": "073f3b26",
   "metadata": {},
   "outputs": [
    {
     "name": "stdout",
     "output_type": "stream",
     "text": [
      "True\n"
     ]
    }
   ],
   "source": [
    "#variable 'vowels' sets up the list of vowels to be used for checking\n",
    "vowels = {'a', 'e', 'i', 'o', 'u'}\n",
    "#is_vowel defines string as the only parameter\n",
    "def is_vowel(string):\n",
    "    #if condition checks if string is found in vowels\n",
    "    if string in vowels:\n",
    "        #if found in vowels it returns True\n",
    "        return True\n",
    "    #if not found in vowels it returns False\n",
    "    else:\n",
    "        return False\n",
    "    \n",
    "print(is_vowel('a'))"
   ]
  },
  {
   "cell_type": "markdown",
   "id": "5c120416",
   "metadata": {},
   "source": [
    "**3. Define a function named is_consonant. It should return True if the passed string is a consonant, False otherwise. Use your is_vowel function to accomplish this.**\n"
   ]
  },
  {
   "cell_type": "code",
   "execution_count": 15,
   "id": "bdfaec70",
   "metadata": {},
   "outputs": [
    {
     "name": "stdout",
     "output_type": "stream",
     "text": [
      "True\n"
     ]
    }
   ],
   "source": [
    "#variable 'vowels' sets up the list of vowels to be used for checking\n",
    "vowels = {'a', 'e', 'i', 'o', 'u'}\n",
    "#is_consonant defines string as the only parameter\n",
    "def is_consonant(string):\n",
    "    #checks if string is not included in vowels\n",
    "    if string not in vowels:\n",
    "        #if not then it returns True\n",
    "        return True\n",
    "    #otherwise, the function returns False\n",
    "    else:\n",
    "        return False\n",
    "    \n",
    "print(is_consonant('b'))"
   ]
  },
  {
   "cell_type": "markdown",
   "id": "175d59fa",
   "metadata": {},
   "source": [
    "**4. Define a function that accepts a string that is a word. The function should capitalize the first letter of the word if the word starts with a consonant.**\n"
   ]
  },
  {
   "cell_type": "code",
   "execution_count": 31,
   "id": "7c23038a",
   "metadata": {},
   "outputs": [
    {
     "name": "stdout",
     "output_type": "stream",
     "text": [
      "Bob\n"
     ]
    }
   ],
   "source": [
    "#variable 'vowels' sets up the list of vowels to be used for checking\n",
    "vowels = {'a', 'e', 'i', 'o', 'u'}\n",
    "#capitalize defines string as the only parameter\n",
    "def capitalize(string):\n",
    "    #finds if first letter of string is not in vowels\n",
    "    if string[0] not in vowels:\n",
    "        #the cap variable takes the first letter and capitalizes it\n",
    "        #then it combines it with the rest of the string\n",
    "        cap = string[0].upper() + string[1:]\n",
    "        #returns cap variable back\n",
    "        return cap\n",
    "print(capitalize('bob'))"
   ]
  },
  {
   "cell_type": "markdown",
   "id": "9f164ac1",
   "metadata": {},
   "source": [
    "**5. Define a function named calculate_tip. It should accept a tip percentage (a number between 0 and 1) and the bill total, and return the amount to tip.**\n"
   ]
  },
  {
   "cell_type": "code",
   "execution_count": 28,
   "id": "f98c526b",
   "metadata": {},
   "outputs": [
    {
     "name": "stdout",
     "output_type": "stream",
     "text": [
      "125.0\n"
     ]
    }
   ],
   "source": [
    "#calculate_tip defines percentage and bill_total as the parameters\n",
    "def calculate_tip(percentage, bill_total):\n",
    "    #calculates the amount of the tip base on percentage\n",
    "    tip_amount = bill_total * percentage\n",
    "    #returns the bill and percent amount to give the total amount of the bill with tip\n",
    "    return (bill_total + tip_amount)\n",
    "\n",
    "print(calculate_tip(0.25, 100))"
   ]
  },
  {
   "cell_type": "markdown",
   "id": "aef6003e",
   "metadata": {},
   "source": [
    "**6. Define a function named apply_discount. It should accept a original price, and a discount percentage, and return the price after the discount is applied.**\n"
   ]
  },
  {
   "cell_type": "code",
   "execution_count": 30,
   "id": "ea787b68",
   "metadata": {},
   "outputs": [
    {
     "name": "stdout",
     "output_type": "stream",
     "text": [
      "75.0\n"
     ]
    }
   ],
   "source": [
    "#apply_discount defines original and discount_percent as the parameters\n",
    "def apply_discount(original, discount_percent):\n",
    "    #after_discount is the amount that is going to be taken off original\n",
    "    after_discount = original * discount_percent\n",
    "    #returns the original amount with the discount applied\n",
    "    return (original - after_discount)\n",
    "\n",
    "print(apply_discount(100, 0.25))"
   ]
  },
  {
   "cell_type": "markdown",
   "id": "ad56ce08",
   "metadata": {},
   "source": [
    "**7. Define a function named handle_commas. It should accept a string that is a number that contains commas in it as input, and return a number as output.**\n"
   ]
  },
  {
   "cell_type": "code",
   "execution_count": 2,
   "id": "945c2e0e",
   "metadata": {},
   "outputs": [
    {
     "name": "stdout",
     "output_type": "stream",
     "text": [
      "2000\n"
     ]
    }
   ],
   "source": [
    "#handle_commas defines str_num as the parameter\n",
    "def handle_commas(str_num):\n",
    "    #starts a blank string\n",
    "    new_str = ''\n",
    "    #for loop to get each part of the string\n",
    "    for i in str_num:\n",
    "        #looks to see if that part is a comma\n",
    "        if i == ',' or i == '$':\n",
    "            #continue skips to the next i without adding to new_str\n",
    "            continue\n",
    "        else:\n",
    "            #adds to new_str if part of string is not a comma\n",
    "            new_str += i\n",
    "    #returns the value of new_str as an integer\n",
    "    return int(new_str)\n",
    "\n",
    "print(handle_commas(\"2,000\"))"
   ]
  },
  {
   "cell_type": "markdown",
   "id": "b08645ca",
   "metadata": {},
   "source": [
    "**8. Define a function named get_letter_grade. It should accept a number and return the letter grade associated with that number (A-F).**\n"
   ]
  },
  {
   "cell_type": "code",
   "execution_count": 35,
   "id": "4dcecf50",
   "metadata": {},
   "outputs": [
    {
     "name": "stdout",
     "output_type": "stream",
     "text": [
      "B\n"
     ]
    }
   ],
   "source": [
    "#get_letter_grade defines num as the parameter\n",
    "def get_letter_grade(num):\n",
    "    #checks if greater or equal to 90\n",
    "    if num >= 90:\n",
    "        return 'A'\n",
    "    #checks if greater or equal to 80\n",
    "    elif num >= 80:\n",
    "        return 'B'\n",
    "    #checks if greater or equal to 70\n",
    "    elif num >= 70:\n",
    "        return 'C'\n",
    "    #checks if greater or equal to 60\n",
    "    elif num >= 60:\n",
    "        return 'D'\n",
    "    #if not any of the others then returns 'F'\n",
    "    else:\n",
    "        return 'F'\n",
    "    \n",
    "print(get_letter_grade(85))"
   ]
  },
  {
   "cell_type": "markdown",
   "id": "0ea21367",
   "metadata": {},
   "source": [
    "**9. Define a function named remove_vowels that accepts a string and returns a string with all the vowels removed.**\n"
   ]
  },
  {
   "cell_type": "code",
   "execution_count": 44,
   "id": "a35bc6bf",
   "metadata": {},
   "outputs": [
    {
     "name": "stdout",
     "output_type": "stream",
     "text": [
      "Hppy Brthdy!\n"
     ]
    }
   ],
   "source": [
    "#variable 'vowels' sets up the list of vowels to be used for checking\n",
    "vowels = {'a', 'e', 'i', 'o', 'u'}\n",
    "#remove_vowels defines string_with_vowels as the parameter\n",
    "def remove_vowels(string_with_vowels):\n",
    "    #sets no_vowel_string as blank to be added to later\n",
    "    no_vowel_string = \"\"\n",
    "    #loops through every index of the parameter\n",
    "    for i in string_with_vowels:\n",
    "        #checks if i is in vowels, if it is it skips over\n",
    "        if i in vowels:\n",
    "            continue\n",
    "        #if not in vowels then it adds to no_vowel_string\n",
    "        else:\n",
    "            no_vowel_string += i\n",
    "    return no_vowel_string\n",
    "            \n",
    "print(remove_vowels(\"Happy Birthday!\"))"
   ]
  },
  {
   "cell_type": "markdown",
   "id": "09fe9886",
   "metadata": {},
   "source": [
    "**10. Define a function named normalize_name. It should accept a string and return a valid python identifier, that is:**"
   ]
  },
  {
   "cell_type": "markdown",
   "id": "05dc676e",
   "metadata": {},
   "source": [
    "* anything that is not a valid python identifier should be removed\n",
    "* leading and trailing whitespace should be removed\n",
    "* everything should be lowercase\n",
    "* spaces should be replaced with underscores\n",
    "* for example:\n",
    "    * Name will become name\n",
    "    * First Name will become first_name\n",
    "    * % Completed will become completed\n"
   ]
  },
  {
   "cell_type": "code",
   "execution_count": 72,
   "id": "cd4c3d56",
   "metadata": {},
   "outputs": [
    {
     "name": "stdout",
     "output_type": "stream",
     "text": [
      "completed\n"
     ]
    }
   ],
   "source": [
    "#normalize_name defines identifier as the parameter\n",
    "def normalize_name(identifier):\n",
    "    #sets python_identifier as a blank string\n",
    "    python_identifier = \"\"\n",
    "    #loops through every char of the parameter\n",
    "    for i in identifier:\n",
    "        #checks for a space\n",
    "        if i == ' ':\n",
    "            #sets the space as an underscore\n",
    "            python_identifier += '_'\n",
    "        #checks for a percentage\n",
    "        elif i == '%':\n",
    "            #skips over it\n",
    "            continue\n",
    "        #adds all other characters to python_identifier\n",
    "        else:\n",
    "            python_identifier += i\n",
    "    #checks if the first character is an underscore\n",
    "    if python_identifier[0] == '_':\n",
    "        #checks if last character is an underscore\n",
    "        if python_identifier[-1] == '_':\n",
    "            #if so, returns the string without them\n",
    "            return python_identifier.lower()[1:-1]\n",
    "        #returns the string with the first character gone\n",
    "        else:\n",
    "            return python_identifier.lower()[1:]\n",
    "    #returns the string with the last character gone\n",
    "    else:\n",
    "        return python_identifier.lower()[:-1]\n",
    "    #returns the string if there were no underscores in the beginning or end\n",
    "    return python_identifier.lower()\n",
    "\n",
    "print(normalize_name(\"% Completed \"))"
   ]
  },
  {
   "cell_type": "markdown",
   "id": "9996fadb",
   "metadata": {},
   "source": [
    "**11. Write a function named cumulative_sum that accepts a list of numbers and returns a list that is the cumulative sum of the numbers in the list.**"
   ]
  },
  {
   "cell_type": "markdown",
   "id": "a79876a4",
   "metadata": {},
   "source": [
    "* cumulative_sum([1, 1, 1]) returns [1, 2, 3]\n",
    "* cumulative_sum([1, 2, 3, 4]) returns [1, 3, 6, 10]"
   ]
  },
  {
   "cell_type": "code",
   "execution_count": 109,
   "id": "41e322f4",
   "metadata": {},
   "outputs": [
    {
     "name": "stdout",
     "output_type": "stream",
     "text": [
      "[1, 3, 6, 10]\n"
     ]
    }
   ],
   "source": [
    "#cumulative_sum defines list_num as the parameter\n",
    "def cumulative_sum(list_num):\n",
    "    #final_list is a blank list that will contain the final output\n",
    "    final_list = []\n",
    "    #for statement with range of len of list_num to give it a defined number to search through\n",
    "    for i in range(len(list_num)):\n",
    "        #finds the first value\n",
    "        if i == 0:\n",
    "            final_list.append(list_num[i])\n",
    "        #runs all the other numbers of the list\n",
    "        else:\n",
    "            #finds the value of the previous number plus the one it is currently looking at\n",
    "            value = final_list[i-1] + list_num[i]\n",
    "            final_list.append(value)\n",
    "    #returns the final answer\n",
    "    return final_list\n",
    "\n",
    "print(cumulative_sum([1,2,3,4]))"
   ]
  },
  {
   "cell_type": "markdown",
   "id": "9a05b497",
   "metadata": {},
   "source": [
    "**Bonus**"
   ]
  },
  {
   "cell_type": "markdown",
   "id": "4c737ccf",
   "metadata": {},
   "source": [
    "**1. Create a function named twelveto24. It should accept a string in the format 10:45am or 4:30pm and return a string that is the representation of the time in a 24-hour format. Bonus write a function that does the opposite.**"
   ]
  },
  {
   "cell_type": "code",
   "execution_count": 179,
   "id": "e2189b08",
   "metadata": {},
   "outputs": [
    {
     "name": "stdout",
     "output_type": "stream",
     "text": [
      "2330\n",
      "12:00am\n"
     ]
    }
   ],
   "source": [
    "#defines twelveto24 with time as the parameter\n",
    "def twelveto24(time):\n",
    "    #new_time is the blank string that will be used for the new value\n",
    "    new_time = ''\n",
    "    #for loop to loop through each character in time\n",
    "    for i in time:\n",
    "        #finds if the char is a digit then adds to new_time\n",
    "        if i.isdigit():\n",
    "            new_time += i\n",
    "        #if char is colon then skips it\n",
    "        elif i == ':':\n",
    "            continue\n",
    "        #if char is a, m, or p then skips it\n",
    "        elif i == 'a' or 'm' or 'p':\n",
    "            continue\n",
    "    #if it's only 3 char long it will add a 0 to the front\n",
    "    if len(new_time) == 3:\n",
    "        new_time = '0' + new_time[0:]\n",
    "    #finds if its a pm time\n",
    "    if time[-2:] == 'pm':\n",
    "        #first_two and count find the first two char and turns them to int to add 12 to it\n",
    "        first_two = new_time[0:2]\n",
    "        count = 12 + int(first_two)\n",
    "        #adds that new first two char to new_time as a string\n",
    "        new_time = str(count) + new_time[2:]\n",
    "    #returns final answer\n",
    "    return new_time\n",
    "\n",
    "#defines reverse with time as the parameter\n",
    "def reverse(time):\n",
    "    #new_time is the new value that is the same as time\n",
    "    new_time = time\n",
    "    #if statement for times that are noon to 1 minute before midnight\n",
    "    if int(new_time) > 1159:\n",
    "        #adds pm to the end\n",
    "        new_time = new_time[-4:] + \"pm\"\n",
    "        #first_two and count removes 12 from the first two characters\n",
    "        first_two = int(new_time[:2])\n",
    "        count = first_two - 12\n",
    "        #adds it back as a string to new_time\n",
    "        new_time = str(count) + new_time[2:]\n",
    "        #adds a colon in between the numbers\n",
    "        new_time = new_time[:2] + \":\" + new_time[2:]\n",
    "    #elif statement if the time is between midnight and before noon\n",
    "    elif int(new_time) <= 1159 and int(new_time) > 0000:\n",
    "        #adds am to the end of the time\n",
    "        new_time = new_time[-4:] + \"am\"\n",
    "        #removes the 0 at the front\n",
    "        new_time = new_time[1:]\n",
    "        #adds a colon after the first number\n",
    "        new_time = new_time[:1] + \":\" + new_time[1:]\n",
    "    #elif statement if the time is midnight\n",
    "    elif int(new_time) == 0000:\n",
    "        #adds am to the end of the time\n",
    "        new_time = new_time[-4:] + \"am\"\n",
    "        #first_two and count add 12 to the front\n",
    "        first_two = int(new_time[:2])\n",
    "        count = first_two + 12\n",
    "        #implements those new two front numbers\n",
    "        new_time = str(count) + new_time[2:]\n",
    "        #adds a colon in between the numbers\n",
    "        new_time = new_time[:2] + \":\" + new_time[2:]\n",
    "    #returns the new time\n",
    "    return new_time\n",
    "        \n",
    "print(twelveto24('11:30pm'))\n",
    "print(reverse('0000'))"
   ]
  },
  {
   "cell_type": "markdown",
   "id": "1b81a124",
   "metadata": {},
   "source": [
    "**2. Create a function named col_index. It should accept a spreadsheet column name, and return the index number of the column.**\n",
    "\n",
    "* col_index('A') returns 1\n",
    "* col_index('B') returns 2\n",
    "* col_index('AA') returns 27"
   ]
  },
  {
   "cell_type": "code",
   "execution_count": 182,
   "id": "fdd32237",
   "metadata": {},
   "outputs": [
    {
     "name": "stdout",
     "output_type": "stream",
     "text": [
      "27\n"
     ]
    }
   ],
   "source": [
    "#col_index has column as its parameter\n",
    "def col_index(column):\n",
    "    #sets index to 1\n",
    "    index = 0\n",
    "    #for loop to get every character in column\n",
    "    for char in column:\n",
    "        #equation to get the unicode from the character\n",
    "        index = index * 26 + (ord(char.upper()) - ord('A') + 1)\n",
    "    return index\n",
    "\n",
    "print(col_index(\"AA\"))"
   ]
  },
  {
   "cell_type": "code",
   "execution_count": null,
   "id": "82397cd6",
   "metadata": {},
   "outputs": [],
   "source": []
  }
 ],
 "metadata": {
  "kernelspec": {
   "display_name": "Python 3 (ipykernel)",
   "language": "python",
   "name": "python3"
  },
  "language_info": {
   "codemirror_mode": {
    "name": "ipython",
    "version": 3
   },
   "file_extension": ".py",
   "mimetype": "text/x-python",
   "name": "python",
   "nbconvert_exporter": "python",
   "pygments_lexer": "ipython3",
   "version": "3.11.5"
  }
 },
 "nbformat": 4,
 "nbformat_minor": 5
}
