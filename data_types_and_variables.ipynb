{
 "cells": [
  {
   "cell_type": "markdown",
   "id": "14a12e76",
   "metadata": {},
   "source": [
    "1. Identify the data type of the following values:"
   ]
  },
  {
   "cell_type": "code",
   "execution_count": 1,
   "id": "387a9037",
   "metadata": {},
   "outputs": [
    {
     "data": {
      "text/plain": [
       "float"
      ]
     },
     "execution_count": 1,
     "metadata": {},
     "output_type": "execute_result"
    }
   ],
   "source": [
    "#99.9\n",
    "type(99.9)"
   ]
  },
  {
   "cell_type": "code",
   "execution_count": 35,
   "id": "438de60f",
   "metadata": {},
   "outputs": [
    {
     "data": {
      "text/plain": [
       "str"
      ]
     },
     "execution_count": 35,
     "metadata": {},
     "output_type": "execute_result"
    }
   ],
   "source": [
    "#\"False\"\n",
    "type(\"False\")"
   ]
  },
  {
   "cell_type": "code",
   "execution_count": 36,
   "id": "8c506a90",
   "metadata": {},
   "outputs": [
    {
     "data": {
      "text/plain": [
       "bool"
      ]
     },
     "execution_count": 36,
     "metadata": {},
     "output_type": "execute_result"
    }
   ],
   "source": [
    "#False\n",
    "type(False)"
   ]
  },
  {
   "cell_type": "code",
   "execution_count": 37,
   "id": "9d9a177d",
   "metadata": {},
   "outputs": [
    {
     "data": {
      "text/plain": [
       "str"
      ]
     },
     "execution_count": 37,
     "metadata": {},
     "output_type": "execute_result"
    }
   ],
   "source": [
    "#'0'\n",
    "type('0')"
   ]
  },
  {
   "cell_type": "code",
   "execution_count": 38,
   "id": "41a37d83",
   "metadata": {},
   "outputs": [
    {
     "data": {
      "text/plain": [
       "int"
      ]
     },
     "execution_count": 38,
     "metadata": {},
     "output_type": "execute_result"
    }
   ],
   "source": [
    "#0\n",
    "type(0)"
   ]
  },
  {
   "cell_type": "code",
   "execution_count": 39,
   "id": "d0a1d531",
   "metadata": {},
   "outputs": [
    {
     "data": {
      "text/plain": [
       "bool"
      ]
     },
     "execution_count": 39,
     "metadata": {},
     "output_type": "execute_result"
    }
   ],
   "source": [
    "#True\n",
    "type(True)"
   ]
  },
  {
   "cell_type": "code",
   "execution_count": 40,
   "id": "97c1fc41",
   "metadata": {},
   "outputs": [
    {
     "data": {
      "text/plain": [
       "str"
      ]
     },
     "execution_count": 40,
     "metadata": {},
     "output_type": "execute_result"
    }
   ],
   "source": [
    "#'True'\n",
    "type('True')"
   ]
  },
  {
   "cell_type": "code",
   "execution_count": 41,
   "id": "d53d39e3",
   "metadata": {},
   "outputs": [
    {
     "data": {
      "text/plain": [
       "list"
      ]
     },
     "execution_count": 41,
     "metadata": {},
     "output_type": "execute_result"
    }
   ],
   "source": [
    "#[{}]\n",
    "type([{}])"
   ]
  },
  {
   "cell_type": "code",
   "execution_count": 42,
   "id": "92aaa1da",
   "metadata": {},
   "outputs": [
    {
     "data": {
      "text/plain": [
       "dict"
      ]
     },
     "execution_count": 42,
     "metadata": {},
     "output_type": "execute_result"
    }
   ],
   "source": [
    "#{'a': []}\n",
    "type({'a':[]})"
   ]
  },
  {
   "cell_type": "markdown",
   "id": "5f7d1307",
   "metadata": {},
   "source": [
    "2. What data type would best represent the following?"
   ]
  },
  {
   "cell_type": "code",
   "execution_count": 11,
   "id": "2ad613a7",
   "metadata": {},
   "outputs": [],
   "source": [
    "#A term or phrase typed into a search box\n",
    "String\n",
    "#Whether or not a user is logged in\n",
    "Boolean\n",
    "#A discount amount to apply to a user's shopping cart\n",
    "Float\n",
    "#Whether or not a coupon code is valid\n",
    "Boolean\n",
    "#An email address typed into a registration form\n",
    "String\n",
    "#The price of a product\n",
    "Float\n",
    "#The email addresses collected from a registration form\n",
    "List\n",
    "#Information about applicants to Codeup's data science program\n",
    "Dictionary"
   ]
  },
  {
   "cell_type": "markdown",
   "id": "0df9a1bc",
   "metadata": {},
   "source": [
    "3. For each of the following code blocks:"
   ]
  },
  {
   "cell_type": "markdown",
   "id": "f96dc704",
   "metadata": {},
   "source": [
    "Read the expression and predict the evaluated results\n",
    "\n",
    "Execute the expression in a Python REPL."
   ]
  },
  {
   "cell_type": "code",
   "execution_count": 43,
   "id": "f61f000d",
   "metadata": {},
   "outputs": [
    {
     "ename": "TypeError",
     "evalue": "can only concatenate str (not \"int\") to str",
     "output_type": "error",
     "traceback": [
      "\u001b[0;31m---------------------------------------------------------------------------\u001b[0m",
      "\u001b[0;31mTypeError\u001b[0m                                 Traceback (most recent call last)",
      "Cell \u001b[0;32mIn[43], line 3\u001b[0m\n\u001b[1;32m      1\u001b[0m \u001b[38;5;66;03m#'1' + 2\u001b[39;00m\n\u001b[1;32m      2\u001b[0m \u001b[38;5;66;03m#Prediction: Error\u001b[39;00m\n\u001b[0;32m----> 3\u001b[0m \u001b[38;5;124m'\u001b[39m\u001b[38;5;124m1\u001b[39m\u001b[38;5;124m'\u001b[39m\u001b[38;5;241m+\u001b[39m\u001b[38;5;241m2\u001b[39m\n",
      "\u001b[0;31mTypeError\u001b[0m: can only concatenate str (not \"int\") to str"
     ]
    }
   ],
   "source": [
    "#'1' + 2\n",
    "#Prediction: Error\n",
    "'1'+2"
   ]
  },
  {
   "cell_type": "code",
   "execution_count": 44,
   "id": "062d085c",
   "metadata": {},
   "outputs": [
    {
     "data": {
      "text/plain": [
       "2"
      ]
     },
     "execution_count": 44,
     "metadata": {},
     "output_type": "execute_result"
    }
   ],
   "source": [
    "#6 % 4\n",
    "#Prediction: 2\n",
    "6 % 4"
   ]
  },
  {
   "cell_type": "code",
   "execution_count": 45,
   "id": "37daa8fa",
   "metadata": {},
   "outputs": [
    {
     "data": {
      "text/plain": [
       "int"
      ]
     },
     "execution_count": 45,
     "metadata": {},
     "output_type": "execute_result"
    }
   ],
   "source": [
    "#type(6 % 4)\n",
    "#Prediction: int\n",
    "type(6 % 4)"
   ]
  },
  {
   "cell_type": "code",
   "execution_count": 46,
   "id": "5478d677",
   "metadata": {},
   "outputs": [
    {
     "data": {
      "text/plain": [
       "type"
      ]
     },
     "execution_count": 46,
     "metadata": {},
     "output_type": "execute_result"
    }
   ],
   "source": [
    "#type(type(6 % 4))\n",
    "#Prediction: Error\n",
    "type(type(6 % 4))"
   ]
  },
  {
   "cell_type": "code",
   "execution_count": 47,
   "id": "73bb3193",
   "metadata": {},
   "outputs": [
    {
     "ename": "TypeError",
     "evalue": "can only concatenate str (not \"int\") to str",
     "output_type": "error",
     "traceback": [
      "\u001b[0;31m---------------------------------------------------------------------------\u001b[0m",
      "\u001b[0;31mTypeError\u001b[0m                                 Traceback (most recent call last)",
      "Cell \u001b[0;32mIn[47], line 3\u001b[0m\n\u001b[1;32m      1\u001b[0m \u001b[38;5;66;03m#'3 + 4 is ' + 3 + 4\u001b[39;00m\n\u001b[1;32m      2\u001b[0m \u001b[38;5;66;03m#Prediction: Error\u001b[39;00m\n\u001b[0;32m----> 3\u001b[0m \u001b[38;5;124m'\u001b[39m\u001b[38;5;124m3 + 4 is \u001b[39m\u001b[38;5;124m'\u001b[39m \u001b[38;5;241m+\u001b[39m \u001b[38;5;241m3\u001b[39m \u001b[38;5;241m+\u001b[39m \u001b[38;5;241m4\u001b[39m\n",
      "\u001b[0;31mTypeError\u001b[0m: can only concatenate str (not \"int\") to str"
     ]
    }
   ],
   "source": [
    "#'3 + 4 is ' + 3 + 4\n",
    "#Prediction: Error\n",
    "'3 + 4 is ' + 3 + 4"
   ]
  },
  {
   "cell_type": "code",
   "execution_count": 48,
   "id": "2511c1a5",
   "metadata": {},
   "outputs": [
    {
     "data": {
      "text/plain": [
       "False"
      ]
     },
     "execution_count": 48,
     "metadata": {},
     "output_type": "execute_result"
    }
   ],
   "source": [
    "#0 < 0\n",
    "#Prediction: False\n",
    "0 < 0"
   ]
  },
  {
   "cell_type": "code",
   "execution_count": 49,
   "id": "47666fbf",
   "metadata": {},
   "outputs": [
    {
     "data": {
      "text/plain": [
       "False"
      ]
     },
     "execution_count": 49,
     "metadata": {},
     "output_type": "execute_result"
    }
   ],
   "source": [
    "#'False' == False\n",
    "#Prediction: False\n",
    "'False' == False"
   ]
  },
  {
   "cell_type": "code",
   "execution_count": 52,
   "id": "cd4f48fb",
   "metadata": {},
   "outputs": [
    {
     "data": {
      "text/plain": [
       "False"
      ]
     },
     "execution_count": 52,
     "metadata": {},
     "output_type": "execute_result"
    }
   ],
   "source": [
    "#True == 'True'\n",
    "#Prediction: False\n",
    "True == 'True'"
   ]
  },
  {
   "cell_type": "code",
   "execution_count": 53,
   "id": "259fd7ce",
   "metadata": {},
   "outputs": [
    {
     "data": {
      "text/plain": [
       "True"
      ]
     },
     "execution_count": 53,
     "metadata": {},
     "output_type": "execute_result"
    }
   ],
   "source": [
    "#5 >= -5\n",
    "#Prediction: True\n",
    "5 >= -5"
   ]
  },
  {
   "cell_type": "code",
   "execution_count": 54,
   "id": "8b7f2abd",
   "metadata": {},
   "outputs": [
    {
     "data": {
      "text/plain": [
       "True"
      ]
     },
     "execution_count": 54,
     "metadata": {},
     "output_type": "execute_result"
    }
   ],
   "source": [
    "#True or \"42\"\n",
    "#Prediction: Error\n",
    "True or \"42\""
   ]
  },
  {
   "cell_type": "code",
   "execution_count": 55,
   "id": "663add82",
   "metadata": {},
   "outputs": [
    {
     "data": {
      "text/plain": [
       "1"
      ]
     },
     "execution_count": 55,
     "metadata": {},
     "output_type": "execute_result"
    }
   ],
   "source": [
    "#6 % 5\n",
    "#Prediction: 1\n",
    "6 % 5"
   ]
  },
  {
   "cell_type": "code",
   "execution_count": 56,
   "id": "3f5edd2e",
   "metadata": {},
   "outputs": [
    {
     "data": {
      "text/plain": [
       "False"
      ]
     },
     "execution_count": 56,
     "metadata": {},
     "output_type": "execute_result"
    }
   ],
   "source": [
    "#5 < 4 and 1 == 1\n",
    "#Prediction: False\n",
    "5 < 4 and 1 == 1"
   ]
  },
  {
   "cell_type": "code",
   "execution_count": 57,
   "id": "b215386f",
   "metadata": {},
   "outputs": [
    {
     "data": {
      "text/plain": [
       "False"
      ]
     },
     "execution_count": 57,
     "metadata": {},
     "output_type": "execute_result"
    }
   ],
   "source": [
    "#'codeup' == 'codeup' and 'codeup' == 'Codeup'\n",
    "#Prediction: False\n",
    "'codeup' == 'codeup' and 'codeup' == 'Codeup'"
   ]
  },
  {
   "cell_type": "code",
   "execution_count": 58,
   "id": "33596691",
   "metadata": {},
   "outputs": [
    {
     "ename": "SyntaxError",
     "evalue": "invalid syntax (3086804876.py, line 3)",
     "output_type": "error",
     "traceback": [
      "\u001b[0;36m  Cell \u001b[0;32mIn[58], line 3\u001b[0;36m\u001b[0m\n\u001b[0;31m    4 >= 0 and 1 !== '1'\u001b[0m\n\u001b[0m                   ^\u001b[0m\n\u001b[0;31mSyntaxError\u001b[0m\u001b[0;31m:\u001b[0m invalid syntax\n"
     ]
    }
   ],
   "source": [
    "#4 >= 0 and 1 !== '1'\n",
    "#Prediction: Error\n",
    "4 >= 0 and 1 !== '1'"
   ]
  },
  {
   "cell_type": "code",
   "execution_count": 59,
   "id": "1015a9e7",
   "metadata": {},
   "outputs": [
    {
     "data": {
      "text/plain": [
       "True"
      ]
     },
     "execution_count": 59,
     "metadata": {},
     "output_type": "execute_result"
    }
   ],
   "source": [
    "#6 % 3 == 0\n",
    "#Prediction: True\n",
    "6 % 3 == 0"
   ]
  },
  {
   "cell_type": "code",
   "execution_count": 60,
   "id": "6192795b",
   "metadata": {},
   "outputs": [
    {
     "data": {
      "text/plain": [
       "True"
      ]
     },
     "execution_count": 60,
     "metadata": {},
     "output_type": "execute_result"
    }
   ],
   "source": [
    "#5 % 2 != 0\n",
    "#Prediction: True\n",
    "5 % 2 != 0"
   ]
  },
  {
   "cell_type": "code",
   "execution_count": 61,
   "id": "bf678793",
   "metadata": {},
   "outputs": [
    {
     "ename": "TypeError",
     "evalue": "can only concatenate list (not \"int\") to list",
     "output_type": "error",
     "traceback": [
      "\u001b[0;31m---------------------------------------------------------------------------\u001b[0m",
      "\u001b[0;31mTypeError\u001b[0m                                 Traceback (most recent call last)",
      "Cell \u001b[0;32mIn[61], line 3\u001b[0m\n\u001b[1;32m      1\u001b[0m \u001b[38;5;66;03m#[1] + 2\u001b[39;00m\n\u001b[1;32m      2\u001b[0m \u001b[38;5;66;03m#Prediction: Error\u001b[39;00m\n\u001b[0;32m----> 3\u001b[0m [\u001b[38;5;241m1\u001b[39m] \u001b[38;5;241m+\u001b[39m \u001b[38;5;241m2\u001b[39m\n",
      "\u001b[0;31mTypeError\u001b[0m: can only concatenate list (not \"int\") to list"
     ]
    }
   ],
   "source": [
    "#[1] + 2\n",
    "#Prediction: Error\n",
    "[1] + 2"
   ]
  },
  {
   "cell_type": "code",
   "execution_count": 62,
   "id": "e20f3c52",
   "metadata": {},
   "outputs": [
    {
     "data": {
      "text/plain": [
       "[1, 2]"
      ]
     },
     "execution_count": 62,
     "metadata": {},
     "output_type": "execute_result"
    }
   ],
   "source": [
    "#[1] + [2]\n",
    "#Prediction: [1,2]\n",
    "[1] + [2]"
   ]
  },
  {
   "cell_type": "code",
   "execution_count": 63,
   "id": "a9572809",
   "metadata": {},
   "outputs": [
    {
     "data": {
      "text/plain": [
       "[1, 1]"
      ]
     },
     "execution_count": 63,
     "metadata": {},
     "output_type": "execute_result"
    }
   ],
   "source": [
    "#[1] * 2\n",
    "#Prediction: [1,1]\n",
    "[1] * 2"
   ]
  },
  {
   "cell_type": "code",
   "execution_count": 64,
   "id": "113b5c65",
   "metadata": {},
   "outputs": [
    {
     "ename": "TypeError",
     "evalue": "can't multiply sequence by non-int of type 'list'",
     "output_type": "error",
     "traceback": [
      "\u001b[0;31m---------------------------------------------------------------------------\u001b[0m",
      "\u001b[0;31mTypeError\u001b[0m                                 Traceback (most recent call last)",
      "Cell \u001b[0;32mIn[64], line 3\u001b[0m\n\u001b[1;32m      1\u001b[0m \u001b[38;5;66;03m#[1] * [2]\u001b[39;00m\n\u001b[1;32m      2\u001b[0m \u001b[38;5;66;03m#Prediction: [2,2]\u001b[39;00m\n\u001b[0;32m----> 3\u001b[0m [\u001b[38;5;241m1\u001b[39m] \u001b[38;5;241m*\u001b[39m [\u001b[38;5;241m2\u001b[39m]\n",
      "\u001b[0;31mTypeError\u001b[0m: can't multiply sequence by non-int of type 'list'"
     ]
    }
   ],
   "source": [
    "#[1] * [2]\n",
    "#Prediction: Error\n",
    "[1] * [2]"
   ]
  },
  {
   "cell_type": "code",
   "execution_count": 65,
   "id": "9968bdf0",
   "metadata": {},
   "outputs": [
    {
     "data": {
      "text/plain": [
       "True"
      ]
     },
     "execution_count": 65,
     "metadata": {},
     "output_type": "execute_result"
    }
   ],
   "source": [
    "#[] + [] == []\n",
    "#Prediction: True\n",
    "[] + [] == []"
   ]
  },
  {
   "cell_type": "code",
   "execution_count": 66,
   "id": "a880c4cc",
   "metadata": {},
   "outputs": [
    {
     "ename": "TypeError",
     "evalue": "unsupported operand type(s) for +: 'dict' and 'dict'",
     "output_type": "error",
     "traceback": [
      "\u001b[0;31m---------------------------------------------------------------------------\u001b[0m",
      "\u001b[0;31mTypeError\u001b[0m                                 Traceback (most recent call last)",
      "Cell \u001b[0;32mIn[66], line 3\u001b[0m\n\u001b[1;32m      1\u001b[0m \u001b[38;5;66;03m#{} + {}\u001b[39;00m\n\u001b[1;32m      2\u001b[0m \u001b[38;5;66;03m#Prediction: Error\u001b[39;00m\n\u001b[0;32m----> 3\u001b[0m {} \u001b[38;5;241m+\u001b[39m {}\n",
      "\u001b[0;31mTypeError\u001b[0m: unsupported operand type(s) for +: 'dict' and 'dict'"
     ]
    }
   ],
   "source": [
    "#{} + {}\n",
    "#Prediction: Error\n",
    "{} + {}"
   ]
  },
  {
   "cell_type": "markdown",
   "id": "21e942ac",
   "metadata": {},
   "source": [
    "4. You have rented some movies for your kids:\n",
    "\n"
   ]
  },
  {
   "cell_type": "markdown",
   "id": "adc9ef36",
   "metadata": {},
   "source": [
    "The Little Mermaid for 3 days"
   ]
  },
  {
   "cell_type": "markdown",
   "id": "7e87d052",
   "metadata": {},
   "source": [
    "Hercules for 1 day"
   ]
  },
  {
   "cell_type": "markdown",
   "id": "6ce687de",
   "metadata": {},
   "source": [
    "Brother Bear for 5 days"
   ]
  },
  {
   "cell_type": "markdown",
   "id": "c74a4ee5",
   "metadata": {},
   "source": [
    "If the daily fee to rent a movie is 3 dollars, how much will you have to pay?"
   ]
  },
  {
   "cell_type": "code",
   "execution_count": 69,
   "id": "ebb66249",
   "metadata": {},
   "outputs": [
    {
     "data": {
      "text/plain": [
       "27"
      ]
     },
     "execution_count": 69,
     "metadata": {},
     "output_type": "execute_result"
    }
   ],
   "source": [
    "Rent = 3\n",
    "\n",
    "Little_Mermaid = 3 * Rent\n",
    "Hercules = 1 * Rent\n",
    "Brother_Bear = 5 * Rent\n",
    "\n",
    "Little_Mermaid + Hercules + Brother_Bear"
   ]
  },
  {
   "cell_type": "markdown",
   "id": "de2b0bc7",
   "metadata": {},
   "source": [
    "5. Suppose you're working as a contractor for 3 companies: Google, Amazon and Facebook."
   ]
  },
  {
   "cell_type": "markdown",
   "id": "4e175a98",
   "metadata": {},
   "source": [
    "They pay you the following hourly rates:\n",
    "\n",
    "Google: 400 dollars\\\n",
    "Amazon: 380 dollars\\\n",
    "Facebook: 350 dollars\\\n",
    "This week you worked: 10 hours for Facebook, 6 hours for Google, and 4 hours for Amazon.\n",
    "\n",
    "How much will you receive in payment for this week?"
   ]
  },
  {
   "cell_type": "code",
   "execution_count": 68,
   "id": "7887e0ea",
   "metadata": {},
   "outputs": [
    {
     "data": {
      "text/plain": [
       "7420"
      ]
     },
     "execution_count": 68,
     "metadata": {},
     "output_type": "execute_result"
    }
   ],
   "source": [
    "Google_Hourly = 400\n",
    "Amazon_Hourly = 380\n",
    "Facebook_Hourly = 350\n",
    "\n",
    "FB_Hours = 10 * Facebook_Hourly\n",
    "G_Hours = 6 * Google_Hourly\n",
    "A_Hours = 4 * Amazon_Hourly\n",
    "\n",
    "FB_Hours + G_Hours + A_Hours"
   ]
  },
  {
   "cell_type": "markdown",
   "id": "8cc32661",
   "metadata": {},
   "source": [
    "6. A student can be enrolled in a class only if the class is not full and the class schedule does not conflict with her current schedule."
   ]
  },
  {
   "cell_type": "code",
   "execution_count": 73,
   "id": "f00280f8",
   "metadata": {},
   "outputs": [
    {
     "data": {
      "text/plain": [
       "['Geometry', 'Math', 'Gym', 'Science', 'Cooking']"
      ]
     },
     "execution_count": 73,
     "metadata": {},
     "output_type": "execute_result"
    }
   ],
   "source": [
    "Schedule = ['Geometry', 'Math', 'Gym', 'Science']\n",
    "Class_Amount = 15\n",
    "Class_Full = 20\n",
    "Class_Name = 'Cooking'\n",
    "\n",
    "if Class_Amount < Class_Full:\n",
    "    if len(Schedule) < 5:\n",
    "        Schedule.append(Class_Name)\n",
    "        \n",
    "Schedule"
   ]
  },
  {
   "cell_type": "markdown",
   "id": "df0fd295",
   "metadata": {},
   "source": [
    "7. A product offer can be applied only if a customer buys more than 2 items, and the offer has not expired. Premium members do not need to buy a specific amount of products."
   ]
  },
  {
   "cell_type": "code",
   "execution_count": 75,
   "id": "0a4a9ddf",
   "metadata": {},
   "outputs": [
    {
     "data": {
      "text/plain": [
       "9.0"
      ]
     },
     "execution_count": 75,
     "metadata": {},
     "output_type": "execute_result"
    }
   ],
   "source": [
    "Item_Amount = 3\n",
    "date = 20231024\n",
    "expired_date = 20231101\n",
    "Cost = Item_Amount * 4\n",
    "Discount_Amount = Cost * 0.25\n",
    "member = True\n",
    "premium_member = True\n",
    "\n",
    "if Item_Amount > 2:\n",
    "    if date < expired_date:\n",
    "        Cost = Cost - Discount_Amount\n",
    "elif memeber == premium_member:\n",
    "    Cost = Cost - Discount_Amount\n",
    "\n",
    "Cost"
   ]
  },
  {
   "cell_type": "markdown",
   "id": "c41cb7d3",
   "metadata": {},
   "source": [
    "8. Use the following code to follow the instructions below:\n",
    "\n",
    "\n",
    "username = 'codeup'\\\n",
    "password = 'notastrongpassword'\\\n",
    "Create a variable that holds a boolean value for each of the following conditions:\n",
    "\n",
    "The password must be at least 5 characters\\\n",
    "The username must be no more than 20 characters\\\n",
    "The password must not be the same as the username\\\n",
    "Bonus Neither the username or password can start nor end with whitespace"
   ]
  },
  {
   "cell_type": "code",
   "execution_count": 92,
   "id": "5fa3ed99",
   "metadata": {},
   "outputs": [
    {
     "name": "stdout",
     "output_type": "stream",
     "text": [
      "Password must not match username\n"
     ]
    }
   ],
   "source": [
    "username = 'codeup'\n",
    "password = 'notastrongpassword' \n",
    "\n",
    "if len(password) < 5:\n",
    "    print(\"Create password longer than 5 characters\")\n",
    "elif len(username) > 20:\n",
    "    print(\"Username must not be greater than 20 characters\")\n",
    "elif password == username:\n",
    "    print(\"Password must not match username\")\n",
    "elif password[-1] == ' ':\n",
    "    print(\"Password must not end with a space\")\n",
    "elif username[-1] == ' ':\n",
    "    print(\"Username must not end with a space\")\n",
    "else:\n",
    "    print(\"Password and Username are fine!\")"
   ]
  },
  {
   "cell_type": "code",
   "execution_count": null,
   "id": "803e185d",
   "metadata": {},
   "outputs": [],
   "source": []
  }
 ],
 "metadata": {
  "kernelspec": {
   "display_name": "Python 3 (ipykernel)",
   "language": "python",
   "name": "python3"
  },
  "language_info": {
   "codemirror_mode": {
    "name": "ipython",
    "version": 3
   },
   "file_extension": ".py",
   "mimetype": "text/x-python",
   "name": "python",
   "nbconvert_exporter": "python",
   "pygments_lexer": "ipython3",
   "version": "3.11.5"
  }
 },
 "nbformat": 4,
 "nbformat_minor": 5
}
