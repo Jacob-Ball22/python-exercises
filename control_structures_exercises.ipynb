{
 "cells": [
  {
   "cell_type": "markdown",
   "id": "41c7695c",
   "metadata": {},
   "source": [
    "**1. Conditional Basics**"
   ]
  },
  {
   "cell_type": "markdown",
   "id": "a6e56b42",
   "metadata": {},
   "source": [
    "a. Prompt the user for a day of the week, print out whether the day is Monday or not"
   ]
  },
  {
   "cell_type": "code",
   "execution_count": 5,
   "id": "f4ded8ef",
   "metadata": {},
   "outputs": [
    {
     "name": "stdout",
     "output_type": "stream",
     "text": [
      "What day of the week is it?\n",
      "Monday\n",
      "Yes! Today is Monday!\n"
     ]
    }
   ],
   "source": [
    "print(\"What day of the week is it?\")\n",
    "x = input()\n",
    "if x == \"Monday\":\n",
    "    print(\"Yes! Today is Monday!\")\n",
    "else:\n",
    "    print(\"No, Today is Monday!\")"
   ]
  },
  {
   "cell_type": "markdown",
   "id": "4dddaad0",
   "metadata": {},
   "source": [
    "b. Prompt the user for a day of the week, print out whether the day is a weekday or a weekend"
   ]
  },
  {
   "cell_type": "code",
   "execution_count": 3,
   "id": "836be1de",
   "metadata": {},
   "outputs": [
    {
     "name": "stdout",
     "output_type": "stream",
     "text": [
      "What day of the week is it?\n",
      "Sunday\n",
      "It's a weekday\n"
     ]
    }
   ],
   "source": [
    "print(\"What day of the week is it?\")\n",
    "x = input()\n",
    "if x == \"Saturday\":\n",
    "    print(\"It's a weekend\")\n",
    "elif x == \"Sunday\":\n",
    "    print(\"It's a weekend\")\n",
    "else:\n",
    "    print(\"It's a weekday\")"
   ]
  },
  {
   "cell_type": "markdown",
   "id": "405f566b",
   "metadata": {},
   "source": [
    "c. Calculate a weekly paycheck, accounting for overtime pay. Create variables and make up values for:\n",
    "\n",
    "* The number of hours worked in one week\n",
    "* The hourly rate\n",
    "\n",
    "For calculating pay:\n",
    "\n",
    "* For working 40 hours or less, each hour is paid at the hourly rate\n",
    "* For working more than 40 hours\n",
    "\n",
    "    * the first 40 hours are paid at the hourly rate\n",
    "    * each hour after 40 is paid at time and a half (hourly rate * 1.5)"
   ]
  },
  {
   "cell_type": "code",
   "execution_count": 17,
   "id": "06a53a6f",
   "metadata": {},
   "outputs": [
    {
     "name": "stdout",
     "output_type": "stream",
     "text": [
      "How Many Hours Did You Work This Week?41\n",
      "You Made $ 637.5\n"
     ]
    }
   ],
   "source": [
    "Hours = input(\"How Many Hours Did You Work This Week?\")\n",
    "Hour_Rate = 15\n",
    "Overtime_Rate = Hour_Rate*1.5\n",
    "if int(Hours) <= 40:\n",
    "    print('$'+(Hours*Hour_Rate))\n",
    "else:\n",
    "    print(\"You Made $\",((int(Hours)-40)*(Overtime_Rate)+(int(Hours)*Hour_Rate)))"
   ]
  },
  {
   "cell_type": "markdown",
   "id": "70d5d73f",
   "metadata": {},
   "source": [
    "**2. Loop Basics**"
   ]
  },
  {
   "cell_type": "markdown",
   "id": "28ccd829",
   "metadata": {},
   "source": [
    "a. While\n",
    "\n",
    "1. Create an integer variable i with a value of 5. Create a while loop that runs so long as i is less than or equal to 15. Each loop iteration, output the current value of i, then increment i by one."
   ]
  },
  {
   "cell_type": "code",
   "execution_count": 20,
   "id": "9c0fc181",
   "metadata": {},
   "outputs": [
    {
     "name": "stdout",
     "output_type": "stream",
     "text": [
      "5\n",
      "6\n",
      "7\n",
      "8\n",
      "9\n",
      "10\n",
      "11\n",
      "12\n",
      "13\n",
      "14\n",
      "15\n"
     ]
    }
   ],
   "source": [
    "i = 5\n",
    "while i <= 15:\n",
    "    print(i)\n",
    "    i+=1"
   ]
  },
  {
   "cell_type": "markdown",
   "id": "70430e0f",
   "metadata": {},
   "source": [
    "2. Create a while loop that will count by 2's starting with 0 and ending at 100. Follow each number with a new line."
   ]
  },
  {
   "cell_type": "code",
   "execution_count": 21,
   "id": "93608a37",
   "metadata": {},
   "outputs": [
    {
     "name": "stdout",
     "output_type": "stream",
     "text": [
      "0\n",
      "2\n",
      "4\n",
      "6\n",
      "8\n",
      "10\n",
      "12\n",
      "14\n",
      "16\n",
      "18\n",
      "20\n",
      "22\n",
      "24\n",
      "26\n",
      "28\n",
      "30\n",
      "32\n",
      "34\n",
      "36\n",
      "38\n",
      "40\n",
      "42\n",
      "44\n",
      "46\n",
      "48\n",
      "50\n",
      "52\n",
      "54\n",
      "56\n",
      "58\n",
      "60\n",
      "62\n",
      "64\n",
      "66\n",
      "68\n",
      "70\n",
      "72\n",
      "74\n",
      "76\n",
      "78\n",
      "80\n",
      "82\n",
      "84\n",
      "86\n",
      "88\n",
      "90\n",
      "92\n",
      "94\n",
      "96\n",
      "98\n",
      "100\n"
     ]
    }
   ],
   "source": [
    "i = 0\n",
    "while i <= 100:\n",
    "    if i % 2 == 0:\n",
    "        print(i)\n",
    "        i += 1\n",
    "    else:\n",
    "        i += 1"
   ]
  },
  {
   "cell_type": "markdown",
   "id": "16d7ac6b",
   "metadata": {},
   "source": [
    "3. Create a while loop that starts at 2, and displays the number squared on each line while the number is less than 1,000,000."
   ]
  },
  {
   "cell_type": "code",
   "execution_count": 30,
   "id": "87021a6d",
   "metadata": {},
   "outputs": [
    {
     "name": "stdout",
     "output_type": "stream",
     "text": [
      "2\n",
      "4\n",
      "16\n",
      "256\n",
      "65536\n"
     ]
    }
   ],
   "source": [
    "i = 2\n",
    "print(i)\n",
    "while i < 1000000:\n",
    "    i = i*i\n",
    "    if i >= 1000000:\n",
    "        break\n",
    "    else:\n",
    "        print(i)"
   ]
  },
  {
   "cell_type": "markdown",
   "id": "0ff03cc2",
   "metadata": {},
   "source": [
    "4. Write a while loop that uses print to create the output shown below.\n",
    "\n",
    "100\\\n",
    "95\\\n",
    "90\\\n",
    "85\\\n",
    "80\\\n",
    "75\\\n",
    "70\\\n",
    "65\\\n",
    "60\\\n",
    "55\\\n",
    "50\\\n",
    "45\\\n",
    "40\\\n",
    "35\\\n",
    "30\\\n",
    "25\\\n",
    "20\\\n",
    "15\\\n",
    "10\\\n",
    "5"
   ]
  },
  {
   "cell_type": "code",
   "execution_count": 31,
   "id": "87e57ed7",
   "metadata": {},
   "outputs": [
    {
     "name": "stdout",
     "output_type": "stream",
     "text": [
      "100\n",
      "95\n",
      "90\n",
      "85\n",
      "80\n",
      "75\n",
      "70\n",
      "65\n",
      "60\n",
      "55\n",
      "50\n",
      "45\n",
      "40\n",
      "35\n",
      "30\n",
      "25\n",
      "20\n",
      "15\n",
      "10\n",
      "5\n"
     ]
    }
   ],
   "source": [
    "i = 100\n",
    "while i > 0:\n",
    "    print(i) \n",
    "    i -= 5"
   ]
  },
  {
   "cell_type": "markdown",
   "id": "3450255f",
   "metadata": {},
   "source": [
    "b. For Loops"
   ]
  },
  {
   "cell_type": "markdown",
   "id": "51afb9d6",
   "metadata": {},
   "source": [
    "1. Write some code using a for loop that prompts the user for a number, then shows a multiplication table up through 10 for that number.\n",
    "\n",
    "For example, if the user enters 7, your program should output:\\\n",
    "7 x 1 = 7\\\n",
    "7 x 2 = 14\\\n",
    "7 x 3 = 21\\\n",
    "7 x 4 = 28\\\n",
    "7 x 5 = 35\\\n",
    "7 x 6 = 42\\\n",
    "7 x 7 = 49\\\n",
    "7 x 8 = 56\\\n",
    "7 x 9 = 63\\\n",
    "7 x 10 = 70"
   ]
  },
  {
   "cell_type": "code",
   "execution_count": 40,
   "id": "f74f97ec",
   "metadata": {},
   "outputs": [
    {
     "name": "stdout",
     "output_type": "stream",
     "text": [
      "Enter a number, 0 - 10\n",
      "7\n",
      "7 x 1 = 7\n",
      "7 x 2 = 14\n",
      "7 x 3 = 21\n",
      "7 x 4 = 28\n",
      "7 x 5 = 35\n",
      "7 x 6 = 42\n",
      "7 x 7 = 49\n",
      "7 x 8 = 56\n",
      "7 x 9 = 63\n",
      "7 x 10 = 70\n"
     ]
    }
   ],
   "source": [
    "print(\"Enter a number, 0 - 10\")\n",
    "x = input()\n",
    "for i in range(1,11):\n",
    "    print(x, \"x\",i,\"=\", (int(x)*i))\n"
   ]
  },
  {
   "cell_type": "markdown",
   "id": "1dad4725",
   "metadata": {},
   "source": [
    "2. Create a for loop that uses print to create the output shown below.\\\n",
    "1\\\n",
    "22\\\n",
    "333\\\n",
    "4444\\\n",
    "55555\\\n",
    "666666\\\n",
    "7777777\\\n",
    "88888888\\\n",
    "999999999\n"
   ]
  },
  {
   "cell_type": "code",
   "execution_count": 41,
   "id": "7f2443df",
   "metadata": {},
   "outputs": [
    {
     "name": "stdout",
     "output_type": "stream",
     "text": [
      "1\n",
      "22\n",
      "333\n",
      "4444\n",
      "55555\n",
      "666666\n",
      "7777777\n",
      "88888888\n",
      "999999999\n"
     ]
    }
   ],
   "source": [
    " for i in range (1,10):\n",
    "    print(str(i)*i)"
   ]
  },
  {
   "cell_type": "markdown",
   "id": "5d83c533",
   "metadata": {},
   "source": [
    "c. break and continue"
   ]
  },
  {
   "cell_type": "markdown",
   "id": "17af62a3",
   "metadata": {},
   "source": [
    "1. Write a program that prompts the user for a positive integer. Next write a loop that prints out the numbers from the number the user entered down to 1."
   ]
  },
  {
   "cell_type": "code",
   "execution_count": 43,
   "id": "2168e7d5",
   "metadata": {},
   "outputs": [
    {
     "name": "stdout",
     "output_type": "stream",
     "text": [
      "Give a positive integer\n",
      "8\n",
      "8\n",
      "7\n",
      "6\n",
      "5\n",
      "4\n",
      "3\n",
      "2\n",
      "1\n"
     ]
    }
   ],
   "source": [
    "print(\"Give a positive integer\")\n",
    "x = int(input())\n",
    "while x > 0:\n",
    "    print(x)\n",
    "    x -=1\n",
    "    if x == 0:\n",
    "        break"
   ]
  },
  {
   "cell_type": "markdown",
   "id": "e0483610",
   "metadata": {},
   "source": [
    "2. The input function can be used to prompt for input and use that input in your python code. Prompt the user to enter a positive number and write a loop that counts from 0 to that number. (Hints: note that the input function returns a string, so you'll need to convert this to a numeric type.)\n",
    "\n"
   ]
  },
  {
   "cell_type": "code",
   "execution_count": 45,
   "id": "f692b6dd",
   "metadata": {},
   "outputs": [
    {
     "name": "stdout",
     "output_type": "stream",
     "text": [
      "Give a positive integer\n",
      "8\n",
      "0\n",
      "1\n",
      "2\n",
      "3\n",
      "4\n",
      "5\n",
      "6\n",
      "7\n",
      "8\n"
     ]
    }
   ],
   "source": [
    "print(\"Give a positive integer\")\n",
    "x = int(input())\n",
    "i = 0\n",
    "while i <= x:\n",
    "    print(i)\n",
    "    i += 1"
   ]
  },
  {
   "cell_type": "markdown",
   "id": "e18102dd",
   "metadata": {},
   "source": [
    "3. Prompt the user for an odd number between 1 and 50. Use a loop and a break statement to continue prompting the user if they enter invalid input. (Hint: use the isdigit method on strings to determine this). Use a loop and the continue statement to output all the odd numbers between 1 and 50, except for the number the user entered.\\\n",
    "Your output should look like this:\n",
    "\n",
    "Number to skip is: 27\n",
    "\n",
    "Here is an odd number: 1\\\n",
    "Here is an odd number: 3\\\n",
    "Here is an odd number: 5\\\n",
    "Here is an odd number: 7\\\n",
    "Here is an odd number: 9\\\n",
    "Here is an odd number: 11\\\n",
    "Here is an odd number: 13\\\n",
    "Here is an odd number: 15\\\n",
    "Here is an odd number: 17\\\n",
    "Here is an odd number: 19\\\n",
    "Here is an odd number: 21\\\n",
    "Here is an odd number: 23\\\n",
    "Here is an odd number: 25\\\n",
    "Yikes! Skipping number: 27\\\n",
    "Here is an odd number: 29\\\n",
    "Here is an odd number: 31\\\n",
    "Here is an odd number: 33\\\n",
    "Here is an odd number: 35\\\n",
    "Here is an odd number: 37\\\n",
    "Here is an odd number: 39\\\n",
    "Here is an odd number: 41\\\n",
    "Here is an odd number: 43\\\n",
    "Here is an odd number: 45\\\n",
    "Here is an odd number: 47\\\n",
    "Here is an odd number: 49\n"
   ]
  },
  {
   "cell_type": "code",
   "execution_count": 46,
   "id": "18d09418",
   "metadata": {},
   "outputs": [
    {
     "name": "stdout",
     "output_type": "stream",
     "text": [
      "Give an odd number between 1 and 50\n",
      "7\n",
      "Here is an odd number: 1\n",
      "Here is an odd number: 3\n",
      "Here is an odd number: 5\n",
      "Yikes! Skipping Number: 7\n",
      "Here is an odd number: 9\n",
      "Here is an odd number: 11\n",
      "Here is an odd number: 13\n",
      "Here is an odd number: 15\n",
      "Here is an odd number: 17\n",
      "Here is an odd number: 19\n",
      "Here is an odd number: 21\n",
      "Here is an odd number: 23\n",
      "Here is an odd number: 25\n",
      "Here is an odd number: 27\n",
      "Here is an odd number: 29\n",
      "Here is an odd number: 31\n",
      "Here is an odd number: 33\n",
      "Here is an odd number: 35\n",
      "Here is an odd number: 37\n",
      "Here is an odd number: 39\n",
      "Here is an odd number: 41\n",
      "Here is an odd number: 43\n",
      "Here is an odd number: 45\n",
      "Here is an odd number: 47\n",
      "Here is an odd number: 49\n"
     ]
    }
   ],
   "source": [
    "print(\"Give an odd number between 1 and 50\")\n",
    "x = int(input())\n",
    "for i in range (1,51):\n",
    "    if i == x:\n",
    "        print(f'Yikes! Skipping Number: {i}')\n",
    "        continue\n",
    "    if i % 2 == 1:\n",
    "        print(f'Here is an odd number: {i}')\n",
    "        i += 1\n",
    "    else:\n",
    "        i += 1"
   ]
  },
  {
   "cell_type": "markdown",
   "id": "84f865d6",
   "metadata": {},
   "source": [
    "**3. Fizzbuzz**"
   ]
  },
  {
   "cell_type": "markdown",
   "id": "bec7f61f",
   "metadata": {},
   "source": [
    "One of the most common interview questions for entry-level programmers is the FizzBuzz test. Developed by Imran Ghory, the test is designed to test basic looping and conditional logic skills.\n",
    "\n",
    "* Write a program that prints the numbers from 1 to 100.\n",
    "* For multiples of three print \"Fizz\" instead of the number\n",
    "* For the multiples of five print \"Buzz\".\n",
    "* For numbers which are multiples of both three and five print \"FizzBuzz\"."
   ]
  },
  {
   "cell_type": "code",
   "execution_count": 48,
   "id": "eb99d311",
   "metadata": {},
   "outputs": [
    {
     "name": "stdout",
     "output_type": "stream",
     "text": [
      "1\n",
      "2\n",
      "Fizz\n",
      "4\n",
      "Buzz\n",
      "Fizz\n",
      "7\n",
      "8\n",
      "Fizz\n",
      "Buzz\n",
      "11\n",
      "Fizz\n",
      "13\n",
      "14\n",
      "FizzBuzz\n",
      "16\n",
      "17\n",
      "Fizz\n",
      "19\n",
      "Buzz\n",
      "Fizz\n",
      "22\n",
      "23\n",
      "Fizz\n",
      "Buzz\n",
      "26\n",
      "Fizz\n",
      "28\n",
      "29\n",
      "FizzBuzz\n",
      "31\n",
      "32\n",
      "Fizz\n",
      "34\n",
      "Buzz\n",
      "Fizz\n",
      "37\n",
      "38\n",
      "Fizz\n",
      "Buzz\n",
      "41\n",
      "Fizz\n",
      "43\n",
      "44\n",
      "FizzBuzz\n",
      "46\n",
      "47\n",
      "Fizz\n",
      "49\n",
      "Buzz\n",
      "Fizz\n",
      "52\n",
      "53\n",
      "Fizz\n",
      "Buzz\n",
      "56\n",
      "Fizz\n",
      "58\n",
      "59\n",
      "FizzBuzz\n",
      "61\n",
      "62\n",
      "Fizz\n",
      "64\n",
      "Buzz\n",
      "Fizz\n",
      "67\n",
      "68\n",
      "Fizz\n",
      "Buzz\n",
      "71\n",
      "Fizz\n",
      "73\n",
      "74\n",
      "FizzBuzz\n",
      "76\n",
      "77\n",
      "Fizz\n",
      "79\n",
      "Buzz\n",
      "Fizz\n",
      "82\n",
      "83\n",
      "Fizz\n",
      "Buzz\n",
      "86\n",
      "Fizz\n",
      "88\n",
      "89\n",
      "FizzBuzz\n",
      "91\n",
      "92\n",
      "Fizz\n",
      "94\n",
      "Buzz\n",
      "Fizz\n",
      "97\n",
      "98\n",
      "Fizz\n",
      "Buzz\n"
     ]
    }
   ],
   "source": [
    "for i in range (1,101):\n",
    "    if i % 3 == 0 and i % 5 == 0:\n",
    "        print(\"FizzBuzz\")\n",
    "    elif i % 3 == 0:\n",
    "        print('Fizz')\n",
    "    elif i % 5 == 0:\n",
    "        print('Buzz')\n",
    "    else:\n",
    "        print(i)"
   ]
  },
  {
   "cell_type": "markdown",
   "id": "597b62e2",
   "metadata": {},
   "source": [
    "**4. Display a table of powers.**"
   ]
  },
  {
   "cell_type": "markdown",
   "id": "6c8f8a6c",
   "metadata": {},
   "source": [
    "* Prompt the user to enter an integer\n",
    "* Display a table of squares and cubes from 1 to the value entered\n",
    "* Ask if the user wants to continue\n",
    "* Assume that the user will enter valid data\n",
    "* Only continue if the user agrees to\n",
    "Example Output:\n",
    "What number would you like to go up to? 5\n",
    "\n",
    "Here is your table!\n",
    "\n",
    "number | squared | cubed\n",
    "------ | ------- | -----\n",
    "1      | 1       | 1\n",
    "2      | 4       | 8\n",
    "3      | 9       | 27\n",
    "4      | 16      | 64\n",
    "5      | 25      | 125\n"
   ]
  },
  {
   "cell_type": "code",
   "execution_count": 2,
   "id": "71e99598",
   "metadata": {},
   "outputs": [
    {
     "name": "stdout",
     "output_type": "stream",
     "text": [
      "What number would you like to go up to?\n",
      "6\n",
      "+--------+---------+-------+\n",
      "| Number | Squared | Cubed |\n",
      "+--------+---------+-------+\n",
      "|   1    |    1    |   1   |\n",
      "|   2    |    4    |   8   |\n",
      "|   3    |    9    |   27  |\n",
      "|   4    |    16   |   64  |\n",
      "|   5    |    25   |  125  |\n",
      "|   6    |    36   |  216  |\n",
      "+--------+---------+-------+\n",
      "Would you like to continue?\n",
      "yes\n",
      "What number would you like to go up to?\n",
      "8\n",
      "+--------+---------+-------+\n",
      "| Number | Squared | Cubed |\n",
      "+--------+---------+-------+\n",
      "|   1    |    1    |   1   |\n",
      "|   2    |    4    |   8   |\n",
      "|   3    |    9    |   27  |\n",
      "|   4    |    16   |   64  |\n",
      "|   5    |    25   |  125  |\n",
      "|   6    |    36   |  216  |\n",
      "|   7    |    49   |  343  |\n",
      "|   8    |    64   |  512  |\n",
      "+--------+---------+-------+\n",
      "Would you like to continue?\n",
      "no\n"
     ]
    }
   ],
   "source": [
    "from prettytable import PrettyTable\n",
    "answer = 'yes'\n",
    "while answer == 'yes':\n",
    "    print(\"What number would you like to go up to?\")\n",
    "    x = int(input())\n",
    "    t = PrettyTable(['Number','Squared','Cubed'])\n",
    "    for i in range(1,(x+1)):\n",
    "        t.add_row([i,i*i,(i*i)*i])\n",
    "    print(t)\n",
    "    print('Would you like to continue?')\n",
    "    answer = input()\n",
    "    if answer == 'yes':\n",
    "        continue\n",
    "    else:\n",
    "        break"
   ]
  },
  {
   "cell_type": "markdown",
   "id": "d1558977",
   "metadata": {},
   "source": [
    "**5. Convert given number grades into letter grades.**"
   ]
  },
  {
   "cell_type": "markdown",
   "id": "b42d6daa",
   "metadata": {},
   "source": [
    "* Prompt the user for a numerical grade from 0 to 100\n",
    "* Display the corresponding letter grade\n",
    "* Prompt the user to continue\n",
    "* Assume that the user will enter valid integers for the grades\n",
    "* The application should only continue if the user agrees to\n",
    "* Grade Ranges:\n",
    "\n",
    "   * A : 100 - 88\n",
    "   * B : 87 - 80\n",
    "   * C : 79 - 67\n",
    "   * D : 66 - 60\n",
    "   * F : 59 - 0"
   ]
  },
  {
   "cell_type": "code",
   "execution_count": 24,
   "id": "24663b6c",
   "metadata": {},
   "outputs": [
    {
     "name": "stdout",
     "output_type": "stream",
     "text": [
      "Give me a grade from 0 to 100\n",
      "9\n",
      "F\n",
      "Would you like to give another grade?\n",
      "no\n"
     ]
    }
   ],
   "source": [
    "cont = 'yes'\n",
    "while cont == 'yes':\n",
    "    print(\"Give me a grade from 0 to 100\")\n",
    "    x = int(input())\n",
    "    if x >= 88:\n",
    "        print('A')\n",
    "    elif x >= 80 and x <= 87:\n",
    "        print('B')\n",
    "    elif x >= 67 and x <= 79:\n",
    "        print('C')\n",
    "    elif x >= 60 and x <= 66:\n",
    "        print('D')\n",
    "    elif x >= 0 and x <= 59:\n",
    "        print('F')\n",
    "    print('Would you like to give another grade?')\n",
    "    cont = input()\n",
    "    if cont == 'yes':\n",
    "        continue\n",
    "    else:\n",
    "        break"
   ]
  },
  {
   "cell_type": "markdown",
   "id": "797b2b2d",
   "metadata": {},
   "source": [
    "**6. Create a list of dictionaries where each dictionary represents a book that you have read. Each dictionary in the list should have the keys title, author, and genre. Loop through the list and print out information about each book.**"
   ]
  },
  {
   "cell_type": "code",
   "execution_count": 16,
   "id": "48596517",
   "metadata": {},
   "outputs": [
    {
     "name": "stdout",
     "output_type": "stream",
     "text": [
      "Book 1:\n",
      "Author: Rebecca Yarros\n",
      "Genre: Fantasy\n",
      "Title: Fourth Wing\n",
      "--------------------------\n",
      "Book 2:\n",
      "Author: Nelson DeMille\n",
      "Genre: Mystery\n",
      "Title: Blood Lines\n",
      "--------------------------\n",
      "Book 3:\n",
      "Author: Hannah Grace\n",
      "Genre: Romance\n",
      "Title: Wildfire\n",
      "--------------------------\n",
      "Book 4:\n",
      "Author: Bonnie Garmus\n",
      "Genre: Fiction\n",
      "Title: Lessons in Chemistry\n",
      "--------------------------\n",
      "Book 5:\n",
      "Author: John Sandford\n",
      "Genre: Crime\n",
      "Title: Judgement Prey\n",
      "--------------------------\n"
     ]
    }
   ],
   "source": [
    "#Book data coming from NY Time Bestsellers List\n",
    "books = {'Title': ['Fourth Wing', 'Blood Lines', 'Wildfire', 'Lessons in Chemistry', 'Judgement Prey'],\n",
    "          'Genre': ['Fantasy', 'Mystery', 'Romance', 'Fiction', 'Crime'],\n",
    "          'Author': ['Rebecca Yarros', 'Nelson DeMille', 'Hannah Grace', 'Bonnie Garmus', 'John Sandford']}\n",
    "\n",
    "for i in range(len(books['Author'])):\n",
    "    print(f\"Book {i+1}:\")\n",
    "    print(f\"Author: {books['Author'][i]}\")\n",
    "    print(f\"Genre: {books['Genre'][i]}\")\n",
    "    print(f\"Title: {books['Title'][i]}\")\n",
    "    print(\"--------------------------\")"
   ]
  },
  {
   "cell_type": "markdown",
   "id": "6d0cab6f",
   "metadata": {},
   "source": [
    "a. Prompt the user to enter a genre, then loop through your books list and print out the titles of all the books in that genre."
   ]
  },
  {
   "cell_type": "code",
   "execution_count": 23,
   "id": "014fb290",
   "metadata": {},
   "outputs": [
    {
     "name": "stdout",
     "output_type": "stream",
     "text": [
      "What genre are you looking for?\n",
      "Fantasy\n",
      "Book 1:\n",
      "Title: Fourth Wing\n",
      "--------------------------\n"
     ]
    }
   ],
   "source": [
    "print(\"What genre are you looking for?\")\n",
    "x = input()\n",
    "\n",
    "for i in range(len(books['Author'])):\n",
    "    if x == (books['Genre'][i]):\n",
    "        print(f\"Book {i+1}:\")\n",
    "        print(f\"Title: {books['Title'][i]}\")\n",
    "        print(\"--------------------------\")"
   ]
  },
  {
   "cell_type": "markdown",
   "id": "e60c3b41",
   "metadata": {},
   "source": [
    "**Bonus Exercises**"
   ]
  },
  {
   "cell_type": "markdown",
   "id": "c6e7c0bb",
   "metadata": {},
   "source": [
    "* For your Power of Tables exercise, research python's format string specifiers to align the table"
   ]
  },
  {
   "cell_type": "code",
   "execution_count": 26,
   "id": "bb83736a",
   "metadata": {},
   "outputs": [
    {
     "name": "stdout",
     "output_type": "stream",
     "text": [
      "What number would you like to go up to?\n",
      "5\n",
      "1   1      1        \n",
      "2   4      8        \n",
      "3   9      27       \n",
      "4   16     64       \n",
      "5   25     125      \n",
      "Would you like to continue?\n",
      "no\n"
     ]
    }
   ],
   "source": [
    "answer = 'yes'\n",
    "while answer == 'yes':\n",
    "    print(\"What number would you like to go up to?\")\n",
    "    x = int(input())\n",
    "    for i in range(1,(x+1)):\n",
    "        x1 = i\n",
    "        y1 = i*i\n",
    "        z1 = (i*i)*i\n",
    "        print(\"{:<3} {:<6} {:<9}\".format(x1,y1,z1))\n",
    "    print('Would you like to continue?')\n",
    "    answer = input()\n",
    "    if answer == 'yes':\n",
    "        continue\n",
    "    else:\n",
    "        break"
   ]
  },
  {
   "cell_type": "markdown",
   "id": "6d101aa5",
   "metadata": {},
   "source": [
    "* For your Number Grade to Letter Grade exercise, edit your grade ranges to include pluses and minuses (ex: 99-100 = A+)"
   ]
  },
  {
   "cell_type": "code",
   "execution_count": null,
   "id": "1a44be1b",
   "metadata": {},
   "outputs": [],
   "source": [
    "cont = 'yes'\n",
    "while cont == 'yes':\n",
    "    print(\"Give me a grade from 0 to 100\")\n",
    "    x = int(input())\n",
    "    if x >= 88:\n",
    "        if x >= 96:\n",
    "            print('A+')\n",
    "        elif x > 90 and x < 96:\n",
    "            print('A')\n",
    "        else:\n",
    "            print('A-')\n",
    "    elif x >= 80 and x <= 87:\n",
    "        if x >= 85:\n",
    "            print('B+')\n",
    "        elif x > 82 and x < 85:\n",
    "            print('B')\n",
    "        else:\n",
    "            print('B-')\n",
    "    elif x >= 67 and x <= 79:\n",
    "        if x >= 75:\n",
    "            print('C+')\n",
    "        elif x > 72 and x < 75:\n",
    "            print('C')\n",
    "        else:\n",
    "            print('C-')\n",
    "    elif x >= 60 and x <= 66:\n",
    "        if x >= 64:\n",
    "            print('D+')\n",
    "        elif x > 61 and x < 64:\n",
    "            print('D')\n",
    "        else:\n",
    "            print('D-')\n",
    "    elif x >= 0 and x <= 59:\n",
    "        print('F')\n",
    "    print('Would you like to give another grade?')\n",
    "    cont = input()\n",
    "    if cont == 'yes':\n",
    "        continue\n",
    "    else:\n",
    "        break"
   ]
  }
 ],
 "metadata": {
  "kernelspec": {
   "display_name": "Python 3 (ipykernel)",
   "language": "python",
   "name": "python3"
  },
  "language_info": {
   "codemirror_mode": {
    "name": "ipython",
    "version": 3
   },
   "file_extension": ".py",
   "mimetype": "text/x-python",
   "name": "python",
   "nbconvert_exporter": "python",
   "pygments_lexer": "ipython3",
   "version": "3.11.5"
  }
 },
 "nbformat": 4,
 "nbformat_minor": 5
}
