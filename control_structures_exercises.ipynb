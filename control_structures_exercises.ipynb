{
 "cells": [
  {
   "cell_type": "markdown",
   "id": "41c7695c",
   "metadata": {},
   "source": [
    "**1. Conditional Basics**"
   ]
  },
  {
   "cell_type": "markdown",
   "id": "a6e56b42",
   "metadata": {},
   "source": [
    "a. Prompt the user for a day of the week, print out whether the day is Monday or not"
   ]
  },
  {
   "cell_type": "code",
   "execution_count": 5,
   "id": "f4ded8ef",
   "metadata": {},
   "outputs": [
    {
     "name": "stdout",
     "output_type": "stream",
     "text": [
      "What day of the week is it?\n",
      "Monday\n",
      "Yes! Today is Monday!\n"
     ]
    }
   ],
   "source": [
    "print(\"What day of the week is it?\")\n",
    "x = input()\n",
    "if x == \"Monday\":\n",
    "    print(\"Yes! Today is Monday!\")\n",
    "else:\n",
    "    print(\"No, Today is Monday!\")"
   ]
  },
  {
   "cell_type": "markdown",
   "id": "4dddaad0",
   "metadata": {},
   "source": [
    "b. Prompt the user for a day of the week, print out whether the day is a weekday or a weekend"
   ]
  },
  {
   "cell_type": "code",
   "execution_count": 3,
   "id": "836be1de",
   "metadata": {},
   "outputs": [
    {
     "name": "stdout",
     "output_type": "stream",
     "text": [
      "What day of the week is it?\n",
      "Sunday\n",
      "It's a weekday\n"
     ]
    }
   ],
   "source": [
    "print(\"What day of the week is it?\")\n",
    "x = input()\n",
    "if x == \"Saturday\":\n",
    "    print(\"It's a weekend\")\n",
    "elif x == \"Sunday\":\n",
    "    print(\"It's a weekend\")\n",
    "else:\n",
    "    print(\"It's a weekday\")"
   ]
  },
  {
   "cell_type": "markdown",
   "id": "405f566b",
   "metadata": {},
   "source": [
    "c. Calculate a weekly paycheck, accounting for overtime pay. Create variables and make up values for:\n",
    "\n",
    "* The number of hours worked in one week\n",
    "* The hourly rate\n",
    "\n",
    "For calculating pay:\n",
    "\n",
    "* For working 40 hours or less, each hour is paid at the hourly rate\n",
    "* For working more than 40 hours\n",
    "\n",
    "    * the first 40 hours are paid at the hourly rate\n",
    "    * each hour after 40 is paid at time and a half (hourly rate * 1.5)"
   ]
  },
  {
   "cell_type": "code",
   "execution_count": 17,
   "id": "06a53a6f",
   "metadata": {},
   "outputs": [
    {
     "name": "stdout",
     "output_type": "stream",
     "text": [
      "How Many Hours Did You Work This Week?41\n",
      "You Made $ 637.5\n"
     ]
    }
   ],
   "source": [
    "Hours = input(\"How Many Hours Did You Work This Week?\")\n",
    "Hour_Rate = 15\n",
    "Overtime_Rate = Hour_Rate*1.5\n",
    "if int(Hours) <= 40:\n",
    "    print('$'+(Hours*Hour_Rate))\n",
    "else:\n",
    "    print(\"You Made $\",((int(Hours)-40)*(Overtime_Rate)+(int(Hours)*Hour_Rate)))"
   ]
  },
  {
   "cell_type": "markdown",
   "id": "70d5d73f",
   "metadata": {},
   "source": [
    "**2. Loop Basics**"
   ]
  },
  {
   "cell_type": "markdown",
   "id": "28ccd829",
   "metadata": {},
   "source": [
    "a. While\n",
    "\n",
    "1. Create an integer variable i with a value of 5. Create a while loop that runs so long as i is less than or equal to 15. Each loop iteration, output the current value of i, then increment i by one."
   ]
  },
  {
   "cell_type": "code",
   "execution_count": 20,
   "id": "9c0fc181",
   "metadata": {},
   "outputs": [
    {
     "name": "stdout",
     "output_type": "stream",
     "text": [
      "5\n",
      "6\n",
      "7\n",
      "8\n",
      "9\n",
      "10\n",
      "11\n",
      "12\n",
      "13\n",
      "14\n",
      "15\n"
     ]
    }
   ],
   "source": [
    "i = 5\n",
    "while i <= 15:\n",
    "    print(i)\n",
    "    i+=1"
   ]
  },
  {
   "cell_type": "markdown",
   "id": "70430e0f",
   "metadata": {},
   "source": [
    "2. Create a while loop that will count by 2's starting with 0 and ending at 100. Follow each number with a new line."
   ]
  },
  {
   "cell_type": "code",
   "execution_count": 21,
   "id": "93608a37",
   "metadata": {},
   "outputs": [
    {
     "name": "stdout",
     "output_type": "stream",
     "text": [
      "0\n",
      "2\n",
      "4\n",
      "6\n",
      "8\n",
      "10\n",
      "12\n",
      "14\n",
      "16\n",
      "18\n",
      "20\n",
      "22\n",
      "24\n",
      "26\n",
      "28\n",
      "30\n",
      "32\n",
      "34\n",
      "36\n",
      "38\n",
      "40\n",
      "42\n",
      "44\n",
      "46\n",
      "48\n",
      "50\n",
      "52\n",
      "54\n",
      "56\n",
      "58\n",
      "60\n",
      "62\n",
      "64\n",
      "66\n",
      "68\n",
      "70\n",
      "72\n",
      "74\n",
      "76\n",
      "78\n",
      "80\n",
      "82\n",
      "84\n",
      "86\n",
      "88\n",
      "90\n",
      "92\n",
      "94\n",
      "96\n",
      "98\n",
      "100\n"
     ]
    }
   ],
   "source": [
    "i = 0\n",
    "while i <= 100:\n",
    "    if i % 2 == 0:\n",
    "        print(i)\n",
    "        i += 1\n",
    "    else:\n",
    "        i += 1"
   ]
  },
  {
   "cell_type": "markdown",
   "id": "16d7ac6b",
   "metadata": {},
   "source": [
    "3. Create a while loop that starts at 2, and displays the number squared on each line while the number is less than 1,000,000."
   ]
  },
  {
   "cell_type": "code",
   "execution_count": 30,
   "id": "87021a6d",
   "metadata": {},
   "outputs": [
    {
     "name": "stdout",
     "output_type": "stream",
     "text": [
      "2\n",
      "4\n",
      "16\n",
      "256\n",
      "65536\n"
     ]
    }
   ],
   "source": [
    "i = 2\n",
    "print(i)\n",
    "while i < 1000000:\n",
    "    i = i*i\n",
    "    if i >= 1000000:\n",
    "        break\n",
    "    else:\n",
    "        print(i)"
   ]
  },
  {
   "cell_type": "markdown",
   "id": "0ff03cc2",
   "metadata": {},
   "source": [
    "4. Write a while loop that uses print to create the output shown below.\n",
    "\n",
    "100\\\n",
    "95\\\n",
    "90\\\n",
    "85\\\n",
    "80\\\n",
    "75\\\n",
    "70\\\n",
    "65\\\n",
    "60\\\n",
    "55\\\n",
    "50\\\n",
    "45\\\n",
    "40\\\n",
    "35\\\n",
    "30\\\n",
    "25\\\n",
    "20\\\n",
    "15\\\n",
    "10\\\n",
    "5"
   ]
  },
  {
   "cell_type": "code",
   "execution_count": 31,
   "id": "87e57ed7",
   "metadata": {},
   "outputs": [
    {
     "name": "stdout",
     "output_type": "stream",
     "text": [
      "100\n",
      "95\n",
      "90\n",
      "85\n",
      "80\n",
      "75\n",
      "70\n",
      "65\n",
      "60\n",
      "55\n",
      "50\n",
      "45\n",
      "40\n",
      "35\n",
      "30\n",
      "25\n",
      "20\n",
      "15\n",
      "10\n",
      "5\n"
     ]
    }
   ],
   "source": [
    "i = 100\n",
    "while i > 0:\n",
    "    print(i) \n",
    "    i -= 5"
   ]
  },
  {
   "cell_type": "markdown",
   "id": "3450255f",
   "metadata": {},
   "source": [
    "b. For Loops"
   ]
  },
  {
   "cell_type": "markdown",
   "id": "51afb9d6",
   "metadata": {},
   "source": [
    "1. Write some code using a for loop that prompts the user for a number, then shows a multiplication table up through 10 for that number.\n",
    "\n",
    "For example, if the user enters 7, your program should output:\\\n",
    "7 x 1 = 7\\\n",
    "7 x 2 = 14\\\n",
    "7 x 3 = 21\\\n",
    "7 x 4 = 28\\\n",
    "7 x 5 = 35\\\n",
    "7 x 6 = 42\\\n",
    "7 x 7 = 49\\\n",
    "7 x 8 = 56\\\n",
    "7 x 9 = 63\\\n",
    "7 x 10 = 70"
   ]
  },
  {
   "cell_type": "code",
   "execution_count": 40,
   "id": "f74f97ec",
   "metadata": {},
   "outputs": [
    {
     "name": "stdout",
     "output_type": "stream",
     "text": [
      "Enter a number, 0 - 10\n",
      "7\n",
      "7 x 1 = 7\n",
      "7 x 2 = 14\n",
      "7 x 3 = 21\n",
      "7 x 4 = 28\n",
      "7 x 5 = 35\n",
      "7 x 6 = 42\n",
      "7 x 7 = 49\n",
      "7 x 8 = 56\n",
      "7 x 9 = 63\n",
      "7 x 10 = 70\n"
     ]
    }
   ],
   "source": [
    "print(\"Enter a number, 0 - 10\")\n",
    "x = input()\n",
    "for i in range(1,11):\n",
    "    print(x, \"x\",i,\"=\", (int(x)*i))\n"
   ]
  },
  {
   "cell_type": "markdown",
   "id": "1dad4725",
   "metadata": {},
   "source": [
    "2. Create a for loop that uses print to create the output shown below.\\\n",
    "1\\\n",
    "22\\\n",
    "333\\\n",
    "4444\\\n",
    "55555\\\n",
    "666666\\\n",
    "7777777\\\n",
    "88888888\\\n",
    "999999999\n"
   ]
  },
  {
   "cell_type": "code",
   "execution_count": 41,
   "id": "7f2443df",
   "metadata": {},
   "outputs": [
    {
     "name": "stdout",
     "output_type": "stream",
     "text": [
      "1\n",
      "22\n",
      "333\n",
      "4444\n",
      "55555\n",
      "666666\n",
      "7777777\n",
      "88888888\n",
      "999999999\n"
     ]
    }
   ],
   "source": [
    " for i in range (1,10):\n",
    "    print(str(i)*i)"
   ]
  },
  {
   "cell_type": "markdown",
   "id": "5d83c533",
   "metadata": {},
   "source": [
    "c. break and continue"
   ]
  },
  {
   "cell_type": "markdown",
   "id": "17af62a3",
   "metadata": {},
   "source": [
    "1. Write a program that prompts the user for a positive integer. Next write a loop that prints out the numbers from the number the user entered down to 1."
   ]
  },
  {
   "cell_type": "code",
   "execution_count": 43,
   "id": "2168e7d5",
   "metadata": {},
   "outputs": [
    {
     "name": "stdout",
     "output_type": "stream",
     "text": [
      "Give a positive integer\n",
      "8\n",
      "8\n",
      "7\n",
      "6\n",
      "5\n",
      "4\n",
      "3\n",
      "2\n",
      "1\n"
     ]
    }
   ],
   "source": [
    "print(\"Give a positive integer\")\n",
    "x = int(input())\n",
    "while x > 0:\n",
    "    print(x)\n",
    "    x -=1\n",
    "    if x == 0:\n",
    "        break"
   ]
  },
  {
   "cell_type": "markdown",
   "id": "e0483610",
   "metadata": {},
   "source": [
    "2. The input function can be used to prompt for input and use that input in your python code. Prompt the user to enter a positive number and write a loop that counts from 0 to that number. (Hints: note that the input function returns a string, so you'll need to convert this to a numeric type.)\n",
    "\n"
   ]
  },
  {
   "cell_type": "code",
   "execution_count": 45,
   "id": "f692b6dd",
   "metadata": {},
   "outputs": [
    {
     "name": "stdout",
     "output_type": "stream",
     "text": [
      "Give a positive integer\n",
      "8\n",
      "0\n",
      "1\n",
      "2\n",
      "3\n",
      "4\n",
      "5\n",
      "6\n",
      "7\n",
      "8\n"
     ]
    }
   ],
   "source": [
    "print(\"Give a positive integer\")\n",
    "x = int(input())\n",
    "i = 0\n",
    "while i <= x:\n",
    "    print(i)\n",
    "    i += 1"
   ]
  },
  {
   "cell_type": "markdown",
   "id": "e18102dd",
   "metadata": {},
   "source": [
    "3. Prompt the user for an odd number between 1 and 50. Use a loop and a break statement to continue prompting the user if they enter invalid input. (Hint: use the isdigit method on strings to determine this). Use a loop and the continue statement to output all the odd numbers between 1 and 50, except for the number the user entered.\\\n",
    "Your output should look like this:\n",
    "\n",
    "Number to skip is: 27\n",
    "\n",
    "Here is an odd number: 1\\\n",
    "Here is an odd number: 3\\\n",
    "Here is an odd number: 5\\\n",
    "Here is an odd number: 7\\\n",
    "Here is an odd number: 9\\\n",
    "Here is an odd number: 11\\\n",
    "Here is an odd number: 13\\\n",
    "Here is an odd number: 15\\\n",
    "Here is an odd number: 17\\\n",
    "Here is an odd number: 19\\\n",
    "Here is an odd number: 21\\\n",
    "Here is an odd number: 23\\\n",
    "Here is an odd number: 25\\\n",
    "Yikes! Skipping number: 27\\\n",
    "Here is an odd number: 29\\\n",
    "Here is an odd number: 31\\\n",
    "Here is an odd number: 33\\\n",
    "Here is an odd number: 35\\\n",
    "Here is an odd number: 37\\\n",
    "Here is an odd number: 39\\\n",
    "Here is an odd number: 41\\\n",
    "Here is an odd number: 43\\\n",
    "Here is an odd number: 45\\\n",
    "Here is an odd number: 47\\\n",
    "Here is an odd number: 49\n"
   ]
  },
  {
   "cell_type": "code",
   "execution_count": 23,
   "id": "18d09418",
   "metadata": {},
   "outputs": [
    {
     "name": "stdout",
     "output_type": "stream",
     "text": [
      "Give an odd number between 1 and 50\n",
      "27\n",
      "Here is an odd number: 1\n",
      "Here is an odd number: 3\n",
      "Here is an odd number: 5\n",
      "Here is an odd number: 7\n",
      "Here is an odd number: 9\n",
      "Here is an odd number: 11\n",
      "Here is an odd number: 13\n",
      "Here is an odd number: 15\n",
      "Here is an odd number: 17\n",
      "Here is an odd number: 19\n",
      "Here is an odd number: 21\n",
      "Here is an odd number: 23\n",
      "Here is an odd number: 25\n",
      "Here is an odd number: 27\n",
      "Yikes! Skipping Number: 27\n",
      "Here is an odd number: 29\n",
      "Here is an odd number: 31\n",
      "Here is an odd number: 33\n",
      "Here is an odd number: 35\n",
      "Here is an odd number: 37\n",
      "Here is an odd number: 39\n",
      "Here is an odd number: 41\n",
      "Here is an odd number: 43\n",
      "Here is an odd number: 45\n",
      "Here is an odd number: 47\n",
      "Here is an odd number: 49\n"
     ]
    }
   ],
   "source": [
    "print(\"Give an odd number between 1 and 50\")\n",
    "x = int(input())\n",
    "for i in range (1,51):\n",
    "    if i == x:\n",
    "        print(f'Yikes! Skipping Number: {i}')\n",
    "        continue\n",
    "    if i % 2 == 1:\n",
    "        print(f'Here is an odd number: {i}')\n"
   ]
  },
  {
   "cell_type": "markdown",
   "id": "84f865d6",
   "metadata": {},
   "source": [
    "**3. Fizzbuzz**"
   ]
  },
  {
   "cell_type": "markdown",
   "id": "bec7f61f",
   "metadata": {},
   "source": [
    "One of the most common interview questions for entry-level programmers is the FizzBuzz test. Developed by Imran Ghory, the test is designed to test basic looping and conditional logic skills.\n",
    "\n",
    "* Write a program that prints the numbers from 1 to 100.\n",
    "* For multiples of three print \"Fizz\" instead of the number\n",
    "* For the multiples of five print \"Buzz\".\n",
    "* For numbers which are multiples of both three and five print \"FizzBuzz\"."
   ]
  },
  {
   "cell_type": "code",
   "execution_count": 48,
   "id": "eb99d311",
   "metadata": {},
   "outputs": [
    {
     "name": "stdout",
     "output_type": "stream",
     "text": [
      "1\n",
      "2\n",
      "Fizz\n",
      "4\n",
      "Buzz\n",
      "Fizz\n",
      "7\n",
      "8\n",
      "Fizz\n",
      "Buzz\n",
      "11\n",
      "Fizz\n",
      "13\n",
      "14\n",
      "FizzBuzz\n",
      "16\n",
      "17\n",
      "Fizz\n",
      "19\n",
      "Buzz\n",
      "Fizz\n",
      "22\n",
      "23\n",
      "Fizz\n",
      "Buzz\n",
      "26\n",
      "Fizz\n",
      "28\n",
      "29\n",
      "FizzBuzz\n",
      "31\n",
      "32\n",
      "Fizz\n",
      "34\n",
      "Buzz\n",
      "Fizz\n",
      "37\n",
      "38\n",
      "Fizz\n",
      "Buzz\n",
      "41\n",
      "Fizz\n",
      "43\n",
      "44\n",
      "FizzBuzz\n",
      "46\n",
      "47\n",
      "Fizz\n",
      "49\n",
      "Buzz\n",
      "Fizz\n",
      "52\n",
      "53\n",
      "Fizz\n",
      "Buzz\n",
      "56\n",
      "Fizz\n",
      "58\n",
      "59\n",
      "FizzBuzz\n",
      "61\n",
      "62\n",
      "Fizz\n",
      "64\n",
      "Buzz\n",
      "Fizz\n",
      "67\n",
      "68\n",
      "Fizz\n",
      "Buzz\n",
      "71\n",
      "Fizz\n",
      "73\n",
      "74\n",
      "FizzBuzz\n",
      "76\n",
      "77\n",
      "Fizz\n",
      "79\n",
      "Buzz\n",
      "Fizz\n",
      "82\n",
      "83\n",
      "Fizz\n",
      "Buzz\n",
      "86\n",
      "Fizz\n",
      "88\n",
      "89\n",
      "FizzBuzz\n",
      "91\n",
      "92\n",
      "Fizz\n",
      "94\n",
      "Buzz\n",
      "Fizz\n",
      "97\n",
      "98\n",
      "Fizz\n",
      "Buzz\n"
     ]
    }
   ],
   "source": [
    "for i in range (1,101):\n",
    "    if i % 3 == 0 and i % 5 == 0:\n",
    "        print(\"FizzBuzz\")\n",
    "    elif i % 3 == 0:\n",
    "        print('Fizz')\n",
    "    elif i % 5 == 0:\n",
    "        print('Buzz')\n",
    "    else:\n",
    "        print(i)"
   ]
  },
  {
   "cell_type": "markdown",
   "id": "597b62e2",
   "metadata": {},
   "source": [
    "**4. Display a table of powers.**"
   ]
  },
  {
   "cell_type": "markdown",
   "id": "6c8f8a6c",
   "metadata": {},
   "source": [
    "* Prompt the user to enter an integer\n",
    "* Display a table of squares and cubes from 1 to the value entered\n",
    "* Ask if the user wants to continue\n",
    "* Assume that the user will enter valid data\n",
    "* Only continue if the user agrees to\n",
    "Example Output:\n",
    "What number would you like to go up to? 5\n",
    "\n",
    "Here is your table!\n",
    "\n",
    "number | squared | cubed\n",
    "------ | ------- | -----\n",
    "1      | 1       | 1\n",
    "2      | 4       | 8\n",
    "3      | 9       | 27\n",
    "4      | 16      | 64\n",
    "5      | 25      | 125\n"
   ]
  },
  {
   "cell_type": "code",
   "execution_count": 2,
   "id": "71e99598",
   "metadata": {},
   "outputs": [
    {
     "name": "stdout",
     "output_type": "stream",
     "text": [
      "What number would you like to go up to?\n",
      "6\n",
      "+--------+---------+-------+\n",
      "| Number | Squared | Cubed |\n",
      "+--------+---------+-------+\n",
      "|   1    |    1    |   1   |\n",
      "|   2    |    4    |   8   |\n",
      "|   3    |    9    |   27  |\n",
      "|   4    |    16   |   64  |\n",
      "|   5    |    25   |  125  |\n",
      "|   6    |    36   |  216  |\n",
      "+--------+---------+-------+\n",
      "Would you like to continue?\n",
      "yes\n",
      "What number would you like to go up to?\n",
      "8\n",
      "+--------+---------+-------+\n",
      "| Number | Squared | Cubed |\n",
      "+--------+---------+-------+\n",
      "|   1    |    1    |   1   |\n",
      "|   2    |    4    |   8   |\n",
      "|   3    |    9    |   27  |\n",
      "|   4    |    16   |   64  |\n",
      "|   5    |    25   |  125  |\n",
      "|   6    |    36   |  216  |\n",
      "|   7    |    49   |  343  |\n",
      "|   8    |    64   |  512  |\n",
      "+--------+---------+-------+\n",
      "Would you like to continue?\n",
      "no\n"
     ]
    }
   ],
   "source": [
    "from prettytable import PrettyTable\n",
    "answer = 'yes'\n",
    "while answer == 'yes':\n",
    "    print(\"What number would you like to go up to?\")\n",
    "    x = int(input())\n",
    "    t = PrettyTable(['Number','Squared','Cubed'])\n",
    "    for i in range(1,(x+1)):\n",
    "        t.add_row([i,i*i,(i*i)*i])\n",
    "    print(t)\n",
    "    print('Would you like to continue?')\n",
    "    answer = input()\n",
    "    if answer == 'yes':\n",
    "        continue\n",
    "    else:\n",
    "        break"
   ]
  },
  {
   "cell_type": "markdown",
   "id": "d1558977",
   "metadata": {},
   "source": [
    "**5. Convert given number grades into letter grades.**"
   ]
  },
  {
   "cell_type": "markdown",
   "id": "b42d6daa",
   "metadata": {},
   "source": [
    "* Prompt the user for a numerical grade from 0 to 100\n",
    "* Display the corresponding letter grade\n",
    "* Prompt the user to continue\n",
    "* Assume that the user will enter valid integers for the grades\n",
    "* The application should only continue if the user agrees to\n",
    "* Grade Ranges:\n",
    "\n",
    "   * A : 100 - 88\n",
    "   * B : 87 - 80\n",
    "   * C : 79 - 67\n",
    "   * D : 66 - 60\n",
    "   * F : 59 - 0"
   ]
  },
  {
   "cell_type": "code",
   "execution_count": 24,
   "id": "24663b6c",
   "metadata": {},
   "outputs": [
    {
     "name": "stdout",
     "output_type": "stream",
     "text": [
      "Give me a grade from 0 to 100\n",
      "9\n",
      "F\n",
      "Would you like to give another grade?\n",
      "no\n"
     ]
    }
   ],
   "source": [
    "cont = 'yes'\n",
    "while cont == 'yes':\n",
    "    print(\"Give me a grade from 0 to 100\")\n",
    "    x = int(input())\n",
    "    if x >= 88:\n",
    "        print('A')\n",
    "    elif x >= 80 and x <= 87:\n",
    "        print('B')\n",
    "    elif x >= 67 and x <= 79:\n",
    "        print('C')\n",
    "    elif x >= 60 and x <= 66:\n",
    "        print('D')\n",
    "    elif x >= 0 and x <= 59:\n",
    "        print('F')\n",
    "    print('Would you like to give another grade?')\n",
    "    cont = input()\n",
    "    if cont == 'yes':\n",
    "        continue\n",
    "    else:\n",
    "        break"
   ]
  },
  {
   "cell_type": "markdown",
   "id": "797b2b2d",
   "metadata": {},
   "source": [
    "**6. Create a list of dictionaries where each dictionary represents a book that you have read. Each dictionary in the list should have the keys title, author, and genre. Loop through the list and print out information about each book.**"
   ]
  },
  {
   "cell_type": "code",
   "execution_count": 16,
   "id": "48596517",
   "metadata": {},
   "outputs": [
    {
     "name": "stdout",
     "output_type": "stream",
     "text": [
      "Book 1:\n",
      "Author: Rebecca Yarros\n",
      "Genre: Fantasy\n",
      "Title: Fourth Wing\n",
      "--------------------------\n",
      "Book 2:\n",
      "Author: Nelson DeMille\n",
      "Genre: Mystery\n",
      "Title: Blood Lines\n",
      "--------------------------\n",
      "Book 3:\n",
      "Author: Hannah Grace\n",
      "Genre: Romance\n",
      "Title: Wildfire\n",
      "--------------------------\n",
      "Book 4:\n",
      "Author: Bonnie Garmus\n",
      "Genre: Fiction\n",
      "Title: Lessons in Chemistry\n",
      "--------------------------\n",
      "Book 5:\n",
      "Author: John Sandford\n",
      "Genre: Crime\n",
      "Title: Judgement Prey\n",
      "--------------------------\n"
     ]
    }
   ],
   "source": [
    "#Book data coming from NY Time Bestsellers List\n",
    "books = {'Title': ['Fourth Wing', 'Blood Lines', 'Wildfire', 'Lessons in Chemistry', 'Judgement Prey'],\n",
    "          'Genre': ['Fantasy', 'Mystery', 'Romance', 'Fiction', 'Crime'],\n",
    "          'Author': ['Rebecca Yarros', 'Nelson DeMille', 'Hannah Grace', 'Bonnie Garmus', 'John Sandford']}\n",
    "\n",
    "for i in range(len(books['Author'])):\n",
    "    print(f\"Book {i+1}:\")\n",
    "    print(f\"Author: {books['Author'][i]}\")\n",
    "    print(f\"Genre: {books['Genre'][i]}\")\n",
    "    print(f\"Title: {books['Title'][i]}\")\n",
    "    print(\"--------------------------\")"
   ]
  },
  {
   "cell_type": "markdown",
   "id": "6d0cab6f",
   "metadata": {},
   "source": [
    "a. Prompt the user to enter a genre, then loop through your books list and print out the titles of all the books in that genre."
   ]
  },
  {
   "cell_type": "code",
   "execution_count": 23,
   "id": "014fb290",
   "metadata": {},
   "outputs": [
    {
     "name": "stdout",
     "output_type": "stream",
     "text": [
      "What genre are you looking for?\n",
      "Fantasy\n",
      "Book 1:\n",
      "Title: Fourth Wing\n",
      "--------------------------\n"
     ]
    }
   ],
   "source": [
    "print(\"What genre are you looking for?\")\n",
    "x = input()\n",
    "\n",
    "for i in range(len(books['Author'])):\n",
    "    if x == (books['Genre'][i]):\n",
    "        print(f\"Book {i+1}:\")\n",
    "        print(f\"Title: {books['Title'][i]}\")\n",
    "        print(\"--------------------------\")"
   ]
  },
  {
   "cell_type": "markdown",
   "id": "e60c3b41",
   "metadata": {},
   "source": [
    "**Bonus Exercises**"
   ]
  },
  {
   "cell_type": "markdown",
   "id": "c6e7c0bb",
   "metadata": {},
   "source": [
    "* For your Power of Tables exercise, research python's format string specifiers to align the table"
   ]
  },
  {
   "cell_type": "code",
   "execution_count": 26,
   "id": "bb83736a",
   "metadata": {},
   "outputs": [
    {
     "name": "stdout",
     "output_type": "stream",
     "text": [
      "What number would you like to go up to?\n",
      "5\n",
      "1   1      1        \n",
      "2   4      8        \n",
      "3   9      27       \n",
      "4   16     64       \n",
      "5   25     125      \n",
      "Would you like to continue?\n",
      "no\n"
     ]
    }
   ],
   "source": [
    "answer = 'yes'\n",
    "while answer == 'yes':\n",
    "    print(\"What number would you like to go up to?\")\n",
    "    x = int(input())\n",
    "    for i in range(1,(x+1)):\n",
    "        x1 = i\n",
    "        y1 = i*i\n",
    "        z1 = (i*i)*i\n",
    "        print(\"{:<3} {:<6} {:<9}\".format(x1,y1,z1))\n",
    "    print('Would you like to continue?')\n",
    "    answer = input()\n",
    "    if answer == 'yes':\n",
    "        continue\n",
    "    else:\n",
    "        break"
   ]
  },
  {
   "cell_type": "markdown",
   "id": "6d101aa5",
   "metadata": {},
   "source": [
    "* For your Number Grade to Letter Grade exercise, edit your grade ranges to include pluses and minuses (ex: 99-100 = A+)"
   ]
  },
  {
   "cell_type": "code",
   "execution_count": null,
   "id": "1a44be1b",
   "metadata": {},
   "outputs": [],
   "source": [
    "cont = 'yes'\n",
    "while cont == 'yes':\n",
    "    print(\"Give me a grade from 0 to 100\")\n",
    "    x = int(input())\n",
    "    if x >= 88:\n",
    "        if x >= 96:\n",
    "            print('A+')\n",
    "        elif x > 90 and x < 96:\n",
    "            print('A')\n",
    "        else:\n",
    "            print('A-')\n",
    "    elif x >= 80 and x <= 87:\n",
    "        if x >= 85:\n",
    "            print('B+')\n",
    "        elif x > 82 and x < 85:\n",
    "            print('B')\n",
    "        else:\n",
    "            print('B-')\n",
    "    elif x >= 67 and x <= 79:\n",
    "        if x >= 75:\n",
    "            print('C+')\n",
    "        elif x > 72 and x < 75:\n",
    "            print('C')\n",
    "        else:\n",
    "            print('C-')\n",
    "    elif x >= 60 and x <= 66:\n",
    "        if x >= 64:\n",
    "            print('D+')\n",
    "        elif x > 61 and x < 64:\n",
    "            print('D')\n",
    "        else:\n",
    "            print('D-')\n",
    "    elif x >= 0 and x <= 59:\n",
    "        print('F')\n",
    "    print('Would you like to give another grade?')\n",
    "    cont = input()\n",
    "    if cont == 'yes':\n",
    "        continue\n",
    "    else:\n",
    "        break"
   ]
  },
  {
   "cell_type": "markdown",
   "id": "0835d0dd",
   "metadata": {},
   "source": [
    "**17 Bonus List Comprehension Problems**"
   ]
  },
  {
   "cell_type": "code",
   "execution_count": 2,
   "id": "91376864",
   "metadata": {},
   "outputs": [],
   "source": [
    "fruits = ['mango', 'kiwi', 'strawberry', 'guava', 'pineapple', 'mandarin orange']\n",
    "\n",
    "numbers = [2, 3, 4, 5, 6, 7, 8, 9, 10, 11, 13, 17, 19, 23, 256, -8, -4, -2, 5, -9]"
   ]
  },
  {
   "cell_type": "code",
   "execution_count": 5,
   "id": "ab7871d0",
   "metadata": {},
   "outputs": [
    {
     "data": {
      "text/plain": [
       "['MANGO', 'KIWI', 'STRAWBERRY', 'GUAVA', 'PINEAPPLE', 'MANDARIN ORANGE']"
      ]
     },
     "execution_count": 5,
     "metadata": {},
     "output_type": "execute_result"
    }
   ],
   "source": [
    "# Example for loop solution to add 1 to each number in the list\n",
    "numbers_plus_one = []\n",
    "for number in numbers:\n",
    "    numbers_plus_one.append(number + 1)\n",
    "\n",
    "# Example of using a list comprehension to create a list of the numbers plus one.\n",
    "numbers_plus_one = [number + 1 for number in numbers]\n",
    "\n",
    "# Example code that creates a list of all of the list of strings in fruits and uppercases every string\n",
    "output = []\n",
    "for fruit in fruits:\n",
    "    output.append(fruit.upper())\n",
    "output"
   ]
  },
  {
   "cell_type": "code",
   "execution_count": 7,
   "id": "ecb3d8f2",
   "metadata": {},
   "outputs": [
    {
     "data": {
      "text/plain": [
       "['MANGO', 'KIWI', 'STRAWBERRY', 'GUAVA', 'PINEAPPLE', 'MANDARIN ORANGE']"
      ]
     },
     "execution_count": 7,
     "metadata": {},
     "output_type": "execute_result"
    }
   ],
   "source": [
    "# Exercise 1 - rewrite the above example code using list comprehension syntax. \n",
    "#Make a variable named uppercased_fruits to hold the output of the list comprehension. \n",
    "#Output should be ['MANGO', 'KIWI', etc...]\n",
    "\n",
    "uppercased_fruits = []\n",
    "for i in fruits:\n",
    "    uppercased_fruits.append(i.upper())\n",
    "uppercased_fruits"
   ]
  },
  {
   "cell_type": "code",
   "execution_count": 8,
   "id": "b858d35c",
   "metadata": {},
   "outputs": [
    {
     "data": {
      "text/plain": [
       "['Mango', 'Kiwi', 'Strawberry', 'Guava', 'Pineapple', 'Mandarin Orange']"
      ]
     },
     "execution_count": 8,
     "metadata": {},
     "output_type": "execute_result"
    }
   ],
   "source": [
    "# Exercise 2 - create a variable named capitalized_fruits and use list comprehension syntax to produce output \n",
    "#like ['Mango', 'Kiwi', 'Strawberry', etc...]\n",
    "\n",
    "capitalized_fruits = []\n",
    "for i in fruits:\n",
    "    capitalized_fruits.append(i.title())\n",
    "capitalized_fruits"
   ]
  },
  {
   "cell_type": "code",
   "execution_count": 6,
   "id": "4caa0083",
   "metadata": {},
   "outputs": [
    {
     "data": {
      "text/plain": [
       "['mango', 'kiwi', 'strawberry', 'guava', 'pineapple', 'mandarin orange']"
      ]
     },
     "execution_count": 6,
     "metadata": {},
     "output_type": "execute_result"
    }
   ],
   "source": [
    "# Exercise 3 - Use a list comprehension to make a variable named fruits_with_more_than_two_vowels. \n",
    "#Hint: You'll need a way to check if something is a vowel.\n",
    "\n",
    "fruits_with_more_than_two_vowels = []\n",
    "Vowels = {'a', 'e', 'i', 'o', 'u'}\n",
    "for i in fruits:\n",
    "    count = sum(1 for letter in i if letter in Vowels)\n",
    "    if count >= 2:\n",
    "        fruits_with_more_than_two_vowels.append(i)\n",
    "fruits_with_more_than_two_vowels"
   ]
  },
  {
   "cell_type": "code",
   "execution_count": 7,
   "id": "9b04bd88",
   "metadata": {},
   "outputs": [
    {
     "data": {
      "text/plain": [
       "['mango', 'kiwi', 'strawberry']"
      ]
     },
     "execution_count": 7,
     "metadata": {},
     "output_type": "execute_result"
    }
   ],
   "source": [
    "# Exercise 4 - make a variable named fruits_with_only_two_vowels. \n",
    "#The result should be ['mango', 'kiwi', 'strawberry']\n",
    "\n",
    "fruits_with_only_two_vowels = []\n",
    "Vowels = {'a', 'e', 'i', 'o', 'u'}\n",
    "\n",
    "for fruit in fruits:\n",
    "    count = sum(1 for letter in fruit if letter in Vowels)\n",
    "    if count == 2:\n",
    "        fruits_with_only_two_vowels.append(fruit)\n",
    "\n",
    "fruits_with_only_two_vowels"
   ]
  },
  {
   "cell_type": "code",
   "execution_count": 12,
   "id": "8e7d4460",
   "metadata": {},
   "outputs": [
    {
     "data": {
      "text/plain": [
       "['strawberry', 'pineapple', 'mandarin orange']"
      ]
     },
     "execution_count": 12,
     "metadata": {},
     "output_type": "execute_result"
    }
   ],
   "source": [
    "# Exercise 5 - make a list that contains each fruit with more than 5 characters\n",
    "more_than_5 = []\n",
    "for fruit in fruits:\n",
    "    if len(fruit) > 5:\n",
    "        more_than_5.append(fruit)\n",
    "more_than_5"
   ]
  },
  {
   "cell_type": "code",
   "execution_count": 13,
   "id": "c17562fd",
   "metadata": {},
   "outputs": [
    {
     "data": {
      "text/plain": [
       "['mango', 'guava']"
      ]
     },
     "execution_count": 13,
     "metadata": {},
     "output_type": "execute_result"
    }
   ],
   "source": [
    "# Exercise 6 - make a list that contains each fruit with exactly 5 characters\n",
    "equal_to_5 = []\n",
    "for fruit in fruits:\n",
    "    if len(fruit) == 5:\n",
    "        equal_to_5.append(fruit)\n",
    "equal_to_5"
   ]
  },
  {
   "cell_type": "code",
   "execution_count": 14,
   "id": "653bc693",
   "metadata": {},
   "outputs": [
    {
     "data": {
      "text/plain": [
       "['kiwi']"
      ]
     },
     "execution_count": 14,
     "metadata": {},
     "output_type": "execute_result"
    }
   ],
   "source": [
    "# Exercise 7 - Make a list that contains fruits that have less than 5 characters\n",
    "less_than_5 = []\n",
    "for fruit in fruits:\n",
    "    if len(fruit) < 5:\n",
    "        less_than_5.append(fruit)\n",
    "less_than_5"
   ]
  },
  {
   "cell_type": "code",
   "execution_count": 15,
   "id": "eadfac6a",
   "metadata": {},
   "outputs": [
    {
     "data": {
      "text/plain": [
       "[5, 4, 10, 5, 9, 15]"
      ]
     },
     "execution_count": 15,
     "metadata": {},
     "output_type": "execute_result"
    }
   ],
   "source": [
    "# Exercise 8 - Make a list containing the number of characters in each fruit. Output would be [5, 4, 10, etc... ]\n",
    "characters = []\n",
    "for fruit in fruits:\n",
    "    characters.append(len(fruit))\n",
    "characters"
   ]
  },
  {
   "cell_type": "code",
   "execution_count": 16,
   "id": "c91fdcda",
   "metadata": {},
   "outputs": [
    {
     "data": {
      "text/plain": [
       "['mango', 'strawberry', 'guava', 'pineapple', 'mandarin orange']"
      ]
     },
     "execution_count": 16,
     "metadata": {},
     "output_type": "execute_result"
    }
   ],
   "source": [
    "# Exercise 9 - Make a variable named fruits_with_letter_a that contains a list of only the fruits \n",
    "#that contain the letter \"a\"\n",
    "\n",
    "fruits_with_letter_a = []\n",
    "a = 'a'\n",
    "\n",
    "for fruit in fruits:\n",
    "    count = sum(1 for letter in fruit if letter in a)\n",
    "    if count >= 1:\n",
    "        fruits_with_letter_a.append(fruit)\n",
    "fruits_with_letter_a"
   ]
  },
  {
   "cell_type": "code",
   "execution_count": 17,
   "id": "4f719af1",
   "metadata": {},
   "outputs": [
    {
     "data": {
      "text/plain": [
       "['kiwi', 'strawberry']"
      ]
     },
     "execution_count": 17,
     "metadata": {},
     "output_type": "execute_result"
    }
   ],
   "source": [
    "# Exercise 10 - Make a variable named even_numbers that holds only the even numbers \n",
    "\n",
    "even_number = []\n",
    "\n",
    "for fruit in fruits:\n",
    "    if len(fruit) % 2 == 0:\n",
    "        even_number.append(fruit)\n",
    "even_number"
   ]
  },
  {
   "cell_type": "code",
   "execution_count": 18,
   "id": "2abc10d7",
   "metadata": {},
   "outputs": [
    {
     "data": {
      "text/plain": [
       "['mango', 'guava', 'pineapple', 'mandarin orange']"
      ]
     },
     "execution_count": 18,
     "metadata": {},
     "output_type": "execute_result"
    }
   ],
   "source": [
    "# Exercise 11 - Make a variable named odd_numbers that holds only the odd numbers\n",
    "\n",
    "odd_number = []\n",
    "\n",
    "for fruit in fruits:\n",
    "    if len(fruit) % 2 == 1:\n",
    "        odd_number.append(fruit)\n",
    "odd_number"
   ]
  },
  {
   "cell_type": "code",
   "execution_count": 21,
   "id": "8af7d652",
   "metadata": {},
   "outputs": [
    {
     "data": {
      "text/plain": [
       "[2, 3, 4, 5, 6, 7, 8, 9, 10, 11, 13, 17, 19, 23, 256, 5]"
      ]
     },
     "execution_count": 21,
     "metadata": {},
     "output_type": "execute_result"
    }
   ],
   "source": [
    "# Exercise 12 - Make a variable named positive_numbers that holds only the positive numbers\n",
    "\n",
    "positive_numbers = []\n",
    "\n",
    "for number in numbers:\n",
    "    if number > 0:\n",
    "        positive_numbers.append(number)\n",
    "positive_numbers"
   ]
  },
  {
   "cell_type": "code",
   "execution_count": 24,
   "id": "0c1fac0a",
   "metadata": {},
   "outputs": [
    {
     "data": {
      "text/plain": [
       "[-8, -4, -2, -9]"
      ]
     },
     "execution_count": 24,
     "metadata": {},
     "output_type": "execute_result"
    }
   ],
   "source": [
    "# Exercise 13 - Make a variable named negative_numbers that holds only the negative numbers\n",
    "\n",
    "negative_numbers = []\n",
    "\n",
    "for number in numbers:\n",
    "    if number < 0:\n",
    "        negative_numbers.append(number)\n",
    "negative_numbers"
   ]
  },
  {
   "cell_type": "code",
   "execution_count": 37,
   "id": "8cf80b33",
   "metadata": {},
   "outputs": [
    {
     "data": {
      "text/plain": [
       "[10, 11, 13, 17, 19, 23, 256]"
      ]
     },
     "execution_count": 37,
     "metadata": {},
     "output_type": "execute_result"
    }
   ],
   "source": [
    "# Exercise 14 - use a list comprehension w/ a conditional in order to produce a list of numbers with \n",
    "#2 or more numerals\n",
    "\n",
    "two_or_more = []\n",
    "\n",
    "for number in numbers:\n",
    "    if number > 9:\n",
    "        two_or_more.append(number)\n",
    "two_or_more"
   ]
  },
  {
   "cell_type": "code",
   "execution_count": 40,
   "id": "f0f1dc52",
   "metadata": {},
   "outputs": [
    {
     "data": {
      "text/plain": [
       "[4,\n",
       " 9,\n",
       " 16,\n",
       " 25,\n",
       " 36,\n",
       " 49,\n",
       " 64,\n",
       " 81,\n",
       " 100,\n",
       " 121,\n",
       " 169,\n",
       " 289,\n",
       " 361,\n",
       " 529,\n",
       " 65536,\n",
       " 64,\n",
       " 16,\n",
       " 4,\n",
       " 25,\n",
       " 81]"
      ]
     },
     "execution_count": 40,
     "metadata": {},
     "output_type": "execute_result"
    }
   ],
   "source": [
    "# Exercise 15 - Make a variable named numbers_squared that contains the numbers list with each element squared. \n",
    "#Output is [4, 9, 16, etc...]\n",
    "\n",
    "squared = []\n",
    "\n",
    "for number in numbers:\n",
    "    squared.append(number*number)\n",
    "squared"
   ]
  },
  {
   "cell_type": "code",
   "execution_count": 41,
   "id": "675e4288",
   "metadata": {},
   "outputs": [
    {
     "data": {
      "text/plain": [
       "[-9]"
      ]
     },
     "execution_count": 41,
     "metadata": {},
     "output_type": "execute_result"
    }
   ],
   "source": [
    "# Exercise 16 - Make a variable named odd_negative_numbers that contains only the numbers that are both odd \n",
    "#and negative.\n",
    "\n",
    "odd_negative_numbers = []\n",
    "\n",
    "for number in numbers:\n",
    "    if number % 2 == 1 and number < 0:\n",
    "        odd_negative_numbers.append(number)\n",
    "odd_negative_numbers"
   ]
  },
  {
   "cell_type": "code",
   "execution_count": 42,
   "id": "3a4e0c6d",
   "metadata": {},
   "outputs": [
    {
     "data": {
      "text/plain": [
       "[7, 8, 9, 10, 11, 12, 13, 14, 15, 16, 18, 22, 24, 28, 261, -3, 1, 3, 10, -4]"
      ]
     },
     "execution_count": 42,
     "metadata": {},
     "output_type": "execute_result"
    }
   ],
   "source": [
    "# Exercise 17 - Make a variable named numbers_plus_5. In it, return a list containing each number plus five. \n",
    "\n",
    "numbers_plus_5 = []\n",
    "\n",
    "for number in numbers:\n",
    "    numbers_plus_5.append(number+5)\n",
    "numbers_plus_5"
   ]
  },
  {
   "cell_type": "markdown",
   "id": "9c38f0a2",
   "metadata": {},
   "source": [
    "**Data Structure Manipulation Exercises** **Bonus**"
   ]
  },
  {
   "cell_type": "code",
   "execution_count": 44,
   "id": "3f4f9ad9",
   "metadata": {},
   "outputs": [],
   "source": [
    "students = [\n",
    "    {\n",
    "        \"id\": \"100001\",\n",
    "        \"student\": \"Ada Lovelace\",\n",
    "        \"coffee_preference\": \"light\",\n",
    "        \"course\": \"web development\",\n",
    "        \"grades\": [70, 91, 82, 71],\n",
    "        \"pets\": [{\"species\": \"horse\", \"age\": 8}],\n",
    "    },\n",
    "    {\n",
    "        \"id\": \"100002\",\n",
    "        \"student\": \"Thomas Bayes\",\n",
    "        \"coffee_preference\": \"medium\",\n",
    "        \"course\": \"data science\",\n",
    "        \"grades\": [75, 73, 86, 100],\n",
    "        \"pets\": [],\n",
    "    },\n",
    "    {\n",
    "        \"id\": \"100003\",\n",
    "        \"student\": \"Marie Curie\",\n",
    "        \"coffee_preference\": \"light\",\n",
    "        \"course\": \"web development\",\n",
    "        \"grades\": [70, 89, 69, 65],\n",
    "        \"pets\": [{\"species\": \"cat\", \"age\": 0}],\n",
    "    },\n",
    "    {\n",
    "        \"id\": \"100004\",\n",
    "        \"student\": \"Grace Hopper\",\n",
    "        \"coffee_preference\": \"dark\",\n",
    "        \"course\": \"data science\",\n",
    "        \"grades\": [73, 66, 83, 92],\n",
    "        \"pets\": [{\"species\": \"dog\", \"age\": 4}, {\"species\": \"cat\", \"age\": 4}],\n",
    "    },\n",
    "    {\n",
    "        \"id\": \"100005\",\n",
    "        \"student\": \"Alan Turing\",\n",
    "        \"coffee_preference\": \"dark\",\n",
    "        \"course\": \"web development\",\n",
    "        \"grades\": [78, 98, 85, 65],\n",
    "        \"pets\": [\n",
    "            {\"species\": \"horse\", \"age\": 6},\n",
    "            {\"species\": \"horse\", \"age\": 7},\n",
    "            {\"species\": \"dog\", \"age\": 5},\n",
    "        ],\n",
    "    },\n",
    "    {\n",
    "        \"id\": \"100006\",\n",
    "        \"student\": \"Rosalind Franklin\",\n",
    "        \"coffee_preference\": \"dark\",\n",
    "        \"course\": \"data science\",\n",
    "        \"grades\": [76, 70, 96, 81],\n",
    "        \"pets\": [],\n",
    "    },\n",
    "    {\n",
    "        \"id\": \"100007\",\n",
    "        \"student\": \"Elizabeth Blackwell\",\n",
    "        \"coffee_preference\": \"dark\",\n",
    "        \"course\": \"web development\",\n",
    "        \"grades\": [69, 94, 89, 86],\n",
    "        \"pets\": [{\"species\": \"cat\", \"age\": 10}],\n",
    "    },\n",
    "    {\n",
    "        \"id\": \"100008\",\n",
    "        \"student\": \"Rene Descartes\",\n",
    "        \"coffee_preference\": \"medium\",\n",
    "        \"course\": \"data science\",\n",
    "        \"grades\": [87, 79, 90, 99],\n",
    "        \"pets\": [{\"species\": \"cat\", \"age\": 10}, {\"species\": \"cat\", \"age\": 8}],\n",
    "    },\n",
    "    {\n",
    "        \"id\": \"100009\",\n",
    "        \"student\": \"Ahmed Zewail\",\n",
    "        \"coffee_preference\": \"medium\",\n",
    "        \"course\": \"data science\",\n",
    "        \"grades\": [74, 99, 93, 89],\n",
    "        \"pets\": [{\"species\": \"cat\", \"age\": 0}, {\"species\": \"cat\", \"age\": 0}],\n",
    "    },\n",
    "    {\n",
    "        \"id\": \"100010\",\n",
    "        \"student\": \"Chien-Shiung Wu\",\n",
    "        \"coffee_preference\": \"medium\",\n",
    "        \"course\": \"web development\",\n",
    "        \"grades\": [82, 92, 91, 65],\n",
    "        \"pets\": [{\"species\": \"cat\", \"age\": 8}],\n",
    "    },\n",
    "    {\n",
    "        \"id\": \"100011\",\n",
    "        \"student\": \"William Sanford Nye\",\n",
    "        \"coffee_preference\": \"dark\",\n",
    "        \"course\": \"data science\",\n",
    "        \"grades\": [70, 92, 65, 99],\n",
    "        \"pets\": [{\"species\": \"cat\", \"age\": 8}, {\"species\": \"cat\", \"age\": 5}],\n",
    "    },\n",
    "    {\n",
    "        \"id\": \"100012\",\n",
    "        \"student\": \"Carl Sagan\",\n",
    "        \"coffee_preference\": \"medium\",\n",
    "        \"course\": \"data science\",\n",
    "        \"grades\": [100, 86, 91, 87],\n",
    "        \"pets\": [{\"species\": \"cat\", \"age\": 10}],\n",
    "    },\n",
    "    {\n",
    "        \"id\": \"100013\",\n",
    "        \"student\": \"Jane Goodall\",\n",
    "        \"coffee_preference\": \"light\",\n",
    "        \"course\": \"web development\",\n",
    "        \"grades\": [80, 70, 68, 98],\n",
    "        \"pets\": [{\"species\": \"horse\", \"age\": 4}],\n",
    "    },\n",
    "    {\n",
    "        \"id\": \"100014\",\n",
    "        \"student\": \"Richard Feynman\",\n",
    "        \"coffee_preference\": \"medium\",\n",
    "        \"course\": \"web development\",\n",
    "        \"grades\": [73, 99, 86, 98],\n",
    "        \"pets\": [{\"species\": \"dog\", \"age\": 6}],\n",
    "    },\n",
    "]"
   ]
  },
  {
   "cell_type": "markdown",
   "id": "ebbf2bb6",
   "metadata": {},
   "source": [
    "How many students are there?"
   ]
  },
  {
   "cell_type": "code",
   "execution_count": 50,
   "id": "8c21afab",
   "metadata": {},
   "outputs": [
    {
     "data": {
      "text/plain": [
       "14"
      ]
     },
     "execution_count": 50,
     "metadata": {},
     "output_type": "execute_result"
    }
   ],
   "source": [
    "student_count = len(students)\n",
    "student_count"
   ]
  },
  {
   "cell_type": "markdown",
   "id": "a39a0d8c",
   "metadata": {},
   "source": [
    "How many students prefer light coffee? For each type of coffee roast?"
   ]
  },
  {
   "cell_type": "code",
   "execution_count": 58,
   "id": "92b8515c",
   "metadata": {},
   "outputs": [
    {
     "name": "stdout",
     "output_type": "stream",
     "text": [
      "{'light': 3, 'medium': 6, 'dark': 5}\n"
     ]
    }
   ],
   "source": [
    "coffee_counts = {}\n",
    "\n",
    "for student in students:\n",
    "    coffee_type = student['coffee_preference']\n",
    "    if coffee_type in coffee_counts:\n",
    "        coffee_counts[coffee_type] += 1\n",
    "    else:\n",
    "        coffee_counts[coffee_type] = 1\n",
    "\n",
    "print(coffee_counts)\n"
   ]
  },
  {
   "cell_type": "markdown",
   "id": "22639bc1",
   "metadata": {},
   "source": [
    "How many types of each pet are there?\n"
   ]
  },
  {
   "cell_type": "code",
   "execution_count": 65,
   "id": "d11b3ddb",
   "metadata": {},
   "outputs": [
    {
     "name": "stdout",
     "output_type": "stream",
     "text": [
      "{'dog', 'horse', 'cat'}\n"
     ]
    }
   ],
   "source": [
    "pet_species = set()\n",
    "\n",
    "for student in students:\n",
    "    for pet in student['pets']:\n",
    "        pet_species.add(pet['species'])\n",
    "\n",
    "print(pet_species)"
   ]
  },
  {
   "cell_type": "markdown",
   "id": "c0cd9f0b",
   "metadata": {},
   "source": [
    "How many grades does each student have? Do they all have the same number of grades?\n"
   ]
  },
  {
   "cell_type": "code",
   "execution_count": 82,
   "id": "64bbdf08",
   "metadata": {},
   "outputs": [
    {
     "name": "stdout",
     "output_type": "stream",
     "text": [
      "{'100001': 4}\n",
      "{'100002': 4}\n",
      "{'100003': 4}\n",
      "{'100004': 4}\n",
      "{'100005': 4}\n",
      "{'100006': 4}\n",
      "{'100007': 4}\n",
      "{'100008': 4}\n",
      "{'100009': 4}\n",
      "{'100010': 4}\n",
      "{'100011': 4}\n",
      "{'100012': 4}\n",
      "{'100013': 4}\n",
      "{'100014': 4}\n",
      "Yes\n"
     ]
    }
   ],
   "source": [
    "for student in students:\n",
    "    grades = len(student['grades'])\n",
    "    print({student['id'] : grades})\n",
    "if grades == 4:\n",
    "    print('Yes')\n",
    "else:\n",
    "    print('Not all have the same number of grades')"
   ]
  },
  {
   "cell_type": "markdown",
   "id": "0d4bba9f",
   "metadata": {},
   "source": [
    "What is each student's grade average?\n"
   ]
  },
  {
   "cell_type": "code",
   "execution_count": 83,
   "id": "a5bbb5dd",
   "metadata": {},
   "outputs": [
    {
     "name": "stdout",
     "output_type": "stream",
     "text": [
      "{'100001': 78.5}\n",
      "{'100002': 83.5}\n",
      "{'100003': 73.25}\n",
      "{'100004': 78.5}\n",
      "{'100005': 81.5}\n",
      "{'100006': 80.75}\n",
      "{'100007': 84.5}\n",
      "{'100008': 88.75}\n",
      "{'100009': 88.75}\n",
      "{'100010': 82.5}\n",
      "{'100011': 81.5}\n",
      "{'100012': 91.0}\n",
      "{'100013': 79.0}\n",
      "{'100014': 89.0}\n"
     ]
    }
   ],
   "source": [
    "for student in students:\n",
    "    grade_avg = (sum(student['grades'])/len(student['grades']))\n",
    "    print({student['id'] : grade_avg})"
   ]
  },
  {
   "cell_type": "markdown",
   "id": "9375290e",
   "metadata": {},
   "source": [
    "How many pets does each student have?\n"
   ]
  },
  {
   "cell_type": "code",
   "execution_count": 88,
   "id": "83480e58",
   "metadata": {},
   "outputs": [
    {
     "name": "stdout",
     "output_type": "stream",
     "text": [
      "{'100001': 1}\n",
      "{'100002': 0}\n",
      "{'100003': 1}\n",
      "{'100004': 2}\n",
      "{'100005': 3}\n",
      "{'100006': 0}\n",
      "{'100007': 1}\n",
      "{'100008': 2}\n",
      "{'100009': 2}\n",
      "{'100010': 1}\n",
      "{'100011': 2}\n",
      "{'100012': 1}\n",
      "{'100013': 1}\n",
      "{'100014': 1}\n"
     ]
    }
   ],
   "source": [
    "for student in students:\n",
    "    pet_count = len(student['pets'])\n",
    "    print({student['id'] : pet_count})"
   ]
  },
  {
   "cell_type": "markdown",
   "id": "63463476",
   "metadata": {},
   "source": [
    "How many students are in web development? data science?\n"
   ]
  },
  {
   "cell_type": "code",
   "execution_count": 85,
   "id": "7d3fbb3c",
   "metadata": {},
   "outputs": [
    {
     "name": "stdout",
     "output_type": "stream",
     "text": [
      "{'web development': 7, 'data science': 7}\n"
     ]
    }
   ],
   "source": [
    "class_counts = {}\n",
    "\n",
    "for student in students:\n",
    "    class_type = student['course']\n",
    "    if class_type in class_counts:\n",
    "        class_counts[class_type] += 1\n",
    "    else:\n",
    "        class_counts[class_type] = 1\n",
    "\n",
    "print(class_counts)"
   ]
  },
  {
   "cell_type": "markdown",
   "id": "cb3d2c92",
   "metadata": {},
   "source": [
    "What is the average number of pets for students in web development?\n"
   ]
  },
  {
   "cell_type": "code",
   "execution_count": 91,
   "id": "4c5a77eb",
   "metadata": {},
   "outputs": [
    {
     "name": "stdout",
     "output_type": "stream",
     "text": [
      "1.2857142857142858\n"
     ]
    }
   ],
   "source": [
    "student_count = 0\n",
    "pet_num = 0\n",
    "for student in students:\n",
    "    if student['course'] == 'web development':\n",
    "        student_count += 1\n",
    "        pet_num += len(student['pets'])\n",
    "pet_avg = pet_num / student_count\n",
    "print(pet_avg)"
   ]
  }
 ],
 "metadata": {
  "kernelspec": {
   "display_name": "Python 3 (ipykernel)",
   "language": "python",
   "name": "python3"
  },
  "language_info": {
   "codemirror_mode": {
    "name": "ipython",
    "version": 3
   },
   "file_extension": ".py",
   "mimetype": "text/x-python",
   "name": "python",
   "nbconvert_exporter": "python",
   "pygments_lexer": "ipython3",
   "version": "3.11.5"
  }
 },
 "nbformat": 4,
 "nbformat_minor": 5
}
