{
 "cells": [
  {
   "cell_type": "code",
   "execution_count": 1,
   "id": "8a1e9c53",
   "metadata": {},
   "outputs": [
    {
     "data": {
      "text/plain": [
       "5"
      ]
     },
     "execution_count": 1,
     "metadata": {},
     "output_type": "execute_result"
    }
   ],
   "source": [
    "x = 1 + 2\n",
    "x + 2"
   ]
  },
  {
   "cell_type": "markdown",
   "id": "d0562f9d",
   "metadata": {},
   "source": [
    "Command + Enter runs the cell"
   ]
  },
  {
   "cell_type": "code",
   "execution_count": 4,
   "id": "dabcdec1",
   "metadata": {},
   "outputs": [
    {
     "data": {
      "text/plain": [
       "2.0"
      ]
     },
     "execution_count": 4,
     "metadata": {},
     "output_type": "execute_result"
    }
   ],
   "source": [
    "x = 4\n",
    "x / 2"
   ]
  },
  {
   "cell_type": "markdown",
   "id": "7a37ddca",
   "metadata": {},
   "source": [
    "Shift + Enter runs the cell, selected below"
   ]
  },
  {
   "cell_type": "code",
   "execution_count": 5,
   "id": "6e8abd53",
   "metadata": {
    "scrolled": false
   },
   "outputs": [
    {
     "data": {
      "text/plain": [
       "'Hello World'"
      ]
     },
     "execution_count": 5,
     "metadata": {},
     "output_type": "execute_result"
    }
   ],
   "source": [
    "greeting = \"Hello World\"\n",
    "greeting"
   ]
  },
  {
   "cell_type": "markdown",
   "id": "03933085",
   "metadata": {},
   "source": [
    "'A' inserts a new cell above, while 'b' inserts a new cell below"
   ]
  }
 ],
 "metadata": {
  "kernelspec": {
   "display_name": "Python 3 (ipykernel)",
   "language": "python",
   "name": "python3"
  },
  "language_info": {
   "codemirror_mode": {
    "name": "ipython",
    "version": 3
   },
   "file_extension": ".py",
   "mimetype": "text/x-python",
   "name": "python",
   "nbconvert_exporter": "python",
   "pygments_lexer": "ipython3",
   "version": "3.11.5"
  }
 },
 "nbformat": 4,
 "nbformat_minor": 5
}
